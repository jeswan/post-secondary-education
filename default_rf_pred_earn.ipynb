{
 "cells": [
  {
   "cell_type": "code",
   "execution_count": 29,
   "metadata": {},
   "outputs": [
    {
     "name": "stdout",
     "output_type": "stream",
     "text": [
      "The autoreload extension is already loaded. To reload it, use:\n",
      "  %reload_ext autoreload\n"
     ]
    }
   ],
   "source": [
    "import clean_data\n",
    "import feature_selection as fs\n",
    "import modeling_2 as model\n",
    "import numpy as np\n",
    "from sklearn.metrics import mean_squared_error\n",
    "from sklearn.metrics import mean_absolute_error\n",
    "from sklearn.feature_selection import SelectFromModel\n",
    "\n",
    "%load_ext autoreload\n",
    "%autoreload 2"
   ]
  },
  {
   "cell_type": "markdown",
   "metadata": {},
   "source": [
    "## Load and Prep Data"
   ]
  },
  {
   "cell_type": "code",
   "execution_count": 30,
   "metadata": {},
   "outputs": [],
   "source": [
    "MAX_FEATURES = 20\n",
    "TARGET = 'MD_EARN_WNE_P6'"
   ]
  },
  {
   "cell_type": "code",
   "execution_count": 31,
   "metadata": {},
   "outputs": [],
   "source": [
    "df = clean_data.runAll()"
   ]
  },
  {
   "cell_type": "code",
   "execution_count": 4,
   "metadata": {},
   "outputs": [
    {
     "data": {
      "text/html": [
       "<div>\n",
       "<style scoped>\n",
       "    .dataframe tbody tr th:only-of-type {\n",
       "        vertical-align: middle;\n",
       "    }\n",
       "\n",
       "    .dataframe tbody tr th {\n",
       "        vertical-align: top;\n",
       "    }\n",
       "\n",
       "    .dataframe thead th {\n",
       "        text-align: right;\n",
       "    }\n",
       "</style>\n",
       "<table border=\"1\" class=\"dataframe\">\n",
       "  <thead>\n",
       "    <tr style=\"text-align: right;\">\n",
       "      <th></th>\n",
       "      <th>ADM_RATE</th>\n",
       "      <th>AGEGE24</th>\n",
       "      <th>AGE_ENTRY</th>\n",
       "      <th>AVGFACSAL</th>\n",
       "      <th>COSTT4_A</th>\n",
       "      <th>COSTT4_P</th>\n",
       "      <th>D150_4_AIANOLD</th>\n",
       "      <th>D150_4_HISPOLD</th>\n",
       "      <th>D150_L4_AIANOLD</th>\n",
       "      <th>D150_L4_HISPOLD</th>\n",
       "      <th>...</th>\n",
       "      <th>ICLEVEL_2.0</th>\n",
       "      <th>ICLEVEL_3.0</th>\n",
       "      <th>OPENADMP_0.0</th>\n",
       "      <th>OPENADMP_1.0</th>\n",
       "      <th>OPENADMP_2.0</th>\n",
       "      <th>OPENADMP_3.0</th>\n",
       "      <th>OPEFLAG_0.0</th>\n",
       "      <th>Year</th>\n",
       "      <th>MD_EARN_WNE_P6</th>\n",
       "      <th>UNITID</th>\n",
       "    </tr>\n",
       "  </thead>\n",
       "  <tbody>\n",
       "    <tr>\n",
       "      <th>count</th>\n",
       "      <td>3.033400e+04</td>\n",
       "      <td>3.033400e+04</td>\n",
       "      <td>3.033400e+04</td>\n",
       "      <td>3.033400e+04</td>\n",
       "      <td>3.033400e+04</td>\n",
       "      <td>3.033400e+04</td>\n",
       "      <td>3.033400e+04</td>\n",
       "      <td>3.033400e+04</td>\n",
       "      <td>3.033400e+04</td>\n",
       "      <td>3.033400e+04</td>\n",
       "      <td>...</td>\n",
       "      <td>30334.000000</td>\n",
       "      <td>30334.000000</td>\n",
       "      <td>30334.000000</td>\n",
       "      <td>30334.000000</td>\n",
       "      <td>30334.000000</td>\n",
       "      <td>30334.000000</td>\n",
       "      <td>30334.0</td>\n",
       "      <td>30334.000000</td>\n",
       "      <td>30334.000000</td>\n",
       "      <td>30334.000000</td>\n",
       "    </tr>\n",
       "    <tr>\n",
       "      <th>mean</th>\n",
       "      <td>1.365618e-15</td>\n",
       "      <td>4.754734e-16</td>\n",
       "      <td>8.994805e-16</td>\n",
       "      <td>1.049394e-16</td>\n",
       "      <td>-3.747835e-18</td>\n",
       "      <td>-1.366086e-15</td>\n",
       "      <td>-8.500681e-17</td>\n",
       "      <td>1.419756e-16</td>\n",
       "      <td>-1.405438e-17</td>\n",
       "      <td>-1.218046e-17</td>\n",
       "      <td>...</td>\n",
       "      <td>0.360618</td>\n",
       "      <td>0.140074</td>\n",
       "      <td>0.026208</td>\n",
       "      <td>0.500824</td>\n",
       "      <td>0.470495</td>\n",
       "      <td>0.002472</td>\n",
       "      <td>1.0</td>\n",
       "      <td>2009.319312</td>\n",
       "      <td>10.229866</td>\n",
       "      <td>199849.105624</td>\n",
       "    </tr>\n",
       "    <tr>\n",
       "      <th>std</th>\n",
       "      <td>1.000016e+00</td>\n",
       "      <td>1.000016e+00</td>\n",
       "      <td>1.000016e+00</td>\n",
       "      <td>1.000016e+00</td>\n",
       "      <td>1.000016e+00</td>\n",
       "      <td>1.000016e+00</td>\n",
       "      <td>1.000016e+00</td>\n",
       "      <td>1.000016e+00</td>\n",
       "      <td>1.000016e+00</td>\n",
       "      <td>1.000016e+00</td>\n",
       "      <td>...</td>\n",
       "      <td>0.480188</td>\n",
       "      <td>0.347069</td>\n",
       "      <td>0.159757</td>\n",
       "      <td>0.500008</td>\n",
       "      <td>0.499137</td>\n",
       "      <td>0.049663</td>\n",
       "      <td>0.0</td>\n",
       "      <td>3.670705</td>\n",
       "      <td>0.347367</td>\n",
       "      <td>73500.366577</td>\n",
       "    </tr>\n",
       "    <tr>\n",
       "      <th>min</th>\n",
       "      <td>-4.865736e+00</td>\n",
       "      <td>-3.548477e+00</td>\n",
       "      <td>-2.229200e+00</td>\n",
       "      <td>-3.356854e+00</td>\n",
       "      <td>-2.341810e+00</td>\n",
       "      <td>-6.473461e+00</td>\n",
       "      <td>-6.395038e-01</td>\n",
       "      <td>-6.609328e-01</td>\n",
       "      <td>-7.760948e-01</td>\n",
       "      <td>-9.306541e-01</td>\n",
       "      <td>...</td>\n",
       "      <td>0.000000</td>\n",
       "      <td>0.000000</td>\n",
       "      <td>0.000000</td>\n",
       "      <td>0.000000</td>\n",
       "      <td>0.000000</td>\n",
       "      <td>0.000000</td>\n",
       "      <td>1.0</td>\n",
       "      <td>2003.000000</td>\n",
       "      <td>8.853665</td>\n",
       "      <td>100654.000000</td>\n",
       "    </tr>\n",
       "    <tr>\n",
       "      <th>25%</th>\n",
       "      <td>8.036755e-16</td>\n",
       "      <td>5.178915e-16</td>\n",
       "      <td>-7.832814e-01</td>\n",
       "      <td>-5.696017e-01</td>\n",
       "      <td>-3.272996e-01</td>\n",
       "      <td>-1.404984e-15</td>\n",
       "      <td>-1.018216e-16</td>\n",
       "      <td>1.457312e-16</td>\n",
       "      <td>0.000000e+00</td>\n",
       "      <td>0.000000e+00</td>\n",
       "      <td>...</td>\n",
       "      <td>0.000000</td>\n",
       "      <td>0.000000</td>\n",
       "      <td>0.000000</td>\n",
       "      <td>0.000000</td>\n",
       "      <td>0.000000</td>\n",
       "      <td>0.000000</td>\n",
       "      <td>1.0</td>\n",
       "      <td>2007.000000</td>\n",
       "      <td>10.021271</td>\n",
       "      <td>152309.000000</td>\n",
       "    </tr>\n",
       "    <tr>\n",
       "      <th>50%</th>\n",
       "      <td>8.036755e-16</td>\n",
       "      <td>5.178915e-16</td>\n",
       "      <td>-1.032439e-02</td>\n",
       "      <td>0.000000e+00</td>\n",
       "      <td>0.000000e+00</td>\n",
       "      <td>-1.404984e-15</td>\n",
       "      <td>-1.018216e-16</td>\n",
       "      <td>1.457312e-16</td>\n",
       "      <td>0.000000e+00</td>\n",
       "      <td>0.000000e+00</td>\n",
       "      <td>...</td>\n",
       "      <td>0.000000</td>\n",
       "      <td>0.000000</td>\n",
       "      <td>0.000000</td>\n",
       "      <td>1.000000</td>\n",
       "      <td>0.000000</td>\n",
       "      <td>0.000000</td>\n",
       "      <td>1.0</td>\n",
       "      <td>2011.000000</td>\n",
       "      <td>10.236382</td>\n",
       "      <td>190597.000000</td>\n",
       "    </tr>\n",
       "    <tr>\n",
       "      <th>75%</th>\n",
       "      <td>4.438647e-02</td>\n",
       "      <td>5.178915e-16</td>\n",
       "      <td>6.544231e-01</td>\n",
       "      <td>3.674535e-01</td>\n",
       "      <td>0.000000e+00</td>\n",
       "      <td>-1.404984e-15</td>\n",
       "      <td>-1.018216e-16</td>\n",
       "      <td>1.457312e-16</td>\n",
       "      <td>0.000000e+00</td>\n",
       "      <td>0.000000e+00</td>\n",
       "      <td>...</td>\n",
       "      <td>1.000000</td>\n",
       "      <td>0.000000</td>\n",
       "      <td>0.000000</td>\n",
       "      <td>1.000000</td>\n",
       "      <td>1.000000</td>\n",
       "      <td>0.000000</td>\n",
       "      <td>1.0</td>\n",
       "      <td>2013.000000</td>\n",
       "      <td>10.451609</td>\n",
       "      <td>221759.000000</td>\n",
       "    </tr>\n",
       "    <tr>\n",
       "      <th>max</th>\n",
       "      <td>2.373130e+00</td>\n",
       "      <td>5.594437e+00</td>\n",
       "      <td>5.979216e+00</td>\n",
       "      <td>1.056773e+01</td>\n",
       "      <td>4.535198e+00</td>\n",
       "      <td>2.272706e+01</td>\n",
       "      <td>4.579009e+01</td>\n",
       "      <td>4.554775e+01</td>\n",
       "      <td>7.956608e+01</td>\n",
       "      <td>3.794711e+01</td>\n",
       "      <td>...</td>\n",
       "      <td>1.000000</td>\n",
       "      <td>1.000000</td>\n",
       "      <td>1.000000</td>\n",
       "      <td>1.000000</td>\n",
       "      <td>1.000000</td>\n",
       "      <td>1.000000</td>\n",
       "      <td>1.0</td>\n",
       "      <td>2014.000000</td>\n",
       "      <td>11.802606</td>\n",
       "      <td>428444.000000</td>\n",
       "    </tr>\n",
       "  </tbody>\n",
       "</table>\n",
       "<p>8 rows × 189 columns</p>\n",
       "</div>"
      ],
      "text/plain": [
       "           ADM_RATE       AGEGE24     AGE_ENTRY     AVGFACSAL      COSTT4_A  \\\n",
       "count  3.033400e+04  3.033400e+04  3.033400e+04  3.033400e+04  3.033400e+04   \n",
       "mean   1.365618e-15  4.754734e-16  8.994805e-16  1.049394e-16 -3.747835e-18   \n",
       "std    1.000016e+00  1.000016e+00  1.000016e+00  1.000016e+00  1.000016e+00   \n",
       "min   -4.865736e+00 -3.548477e+00 -2.229200e+00 -3.356854e+00 -2.341810e+00   \n",
       "25%    8.036755e-16  5.178915e-16 -7.832814e-01 -5.696017e-01 -3.272996e-01   \n",
       "50%    8.036755e-16  5.178915e-16 -1.032439e-02  0.000000e+00  0.000000e+00   \n",
       "75%    4.438647e-02  5.178915e-16  6.544231e-01  3.674535e-01  0.000000e+00   \n",
       "max    2.373130e+00  5.594437e+00  5.979216e+00  1.056773e+01  4.535198e+00   \n",
       "\n",
       "           COSTT4_P  D150_4_AIANOLD  D150_4_HISPOLD  D150_L4_AIANOLD  \\\n",
       "count  3.033400e+04    3.033400e+04    3.033400e+04     3.033400e+04   \n",
       "mean  -1.366086e-15   -8.500681e-17    1.419756e-16    -1.405438e-17   \n",
       "std    1.000016e+00    1.000016e+00    1.000016e+00     1.000016e+00   \n",
       "min   -6.473461e+00   -6.395038e-01   -6.609328e-01    -7.760948e-01   \n",
       "25%   -1.404984e-15   -1.018216e-16    1.457312e-16     0.000000e+00   \n",
       "50%   -1.404984e-15   -1.018216e-16    1.457312e-16     0.000000e+00   \n",
       "75%   -1.404984e-15   -1.018216e-16    1.457312e-16     0.000000e+00   \n",
       "max    2.272706e+01    4.579009e+01    4.554775e+01     7.956608e+01   \n",
       "\n",
       "       D150_L4_HISPOLD  ...   ICLEVEL_2.0   ICLEVEL_3.0  OPENADMP_0.0  \\\n",
       "count     3.033400e+04  ...  30334.000000  30334.000000  30334.000000   \n",
       "mean     -1.218046e-17  ...      0.360618      0.140074      0.026208   \n",
       "std       1.000016e+00  ...      0.480188      0.347069      0.159757   \n",
       "min      -9.306541e-01  ...      0.000000      0.000000      0.000000   \n",
       "25%       0.000000e+00  ...      0.000000      0.000000      0.000000   \n",
       "50%       0.000000e+00  ...      0.000000      0.000000      0.000000   \n",
       "75%       0.000000e+00  ...      1.000000      0.000000      0.000000   \n",
       "max       3.794711e+01  ...      1.000000      1.000000      1.000000   \n",
       "\n",
       "       OPENADMP_1.0  OPENADMP_2.0  OPENADMP_3.0  OPEFLAG_0.0          Year  \\\n",
       "count  30334.000000  30334.000000  30334.000000      30334.0  30334.000000   \n",
       "mean       0.500824      0.470495      0.002472          1.0   2009.319312   \n",
       "std        0.500008      0.499137      0.049663          0.0      3.670705   \n",
       "min        0.000000      0.000000      0.000000          1.0   2003.000000   \n",
       "25%        0.000000      0.000000      0.000000          1.0   2007.000000   \n",
       "50%        1.000000      0.000000      0.000000          1.0   2011.000000   \n",
       "75%        1.000000      1.000000      0.000000          1.0   2013.000000   \n",
       "max        1.000000      1.000000      1.000000          1.0   2014.000000   \n",
       "\n",
       "       MD_EARN_WNE_P6         UNITID  \n",
       "count    30334.000000   30334.000000  \n",
       "mean        10.229866  199849.105624  \n",
       "std          0.347367   73500.366577  \n",
       "min          8.853665  100654.000000  \n",
       "25%         10.021271  152309.000000  \n",
       "50%         10.236382  190597.000000  \n",
       "75%         10.451609  221759.000000  \n",
       "max         11.802606  428444.000000  \n",
       "\n",
       "[8 rows x 189 columns]"
      ]
     },
     "execution_count": 4,
     "metadata": {},
     "output_type": "execute_result"
    }
   ],
   "source": [
    "df.describe()"
   ]
  },
  {
   "cell_type": "code",
   "execution_count": 32,
   "metadata": {},
   "outputs": [],
   "source": [
    "df_no_id = df.drop('UNITID', axis=1)"
   ]
  },
  {
   "cell_type": "markdown",
   "metadata": {},
   "source": [
    "## Run RF with default arguments"
   ]
  },
  {
   "cell_type": "code",
   "execution_count": 33,
   "metadata": {},
   "outputs": [
    {
     "data": {
      "image/png": "[encoded data removed]",
      "text/plain": [
       "<Figure size 720x720 with 1 Axes>"
      ]
     },
     "metadata": {
      "needs_background": "light"
     },
     "output_type": "display_data"
    }
   ],
   "source": [
    "train, test = model.sampling_data(df_no_id)\n",
    "x_train, y_train, x_test, y_test = model.split_data(train, test, TARGET)\n",
    "\n",
    "est = 20\n",
    "sel = model.RF\n",
    "\n",
    "naive_rf_feature_importance, naive_rf, naive_rf_preds = model.run_model(x_train, y_train, x_test, est, sel)\n",
    "\n",
    "imp_features = model.graph_feature_importance(naive_rf_feature_importance, x_train)"
   ]
  },
  {
   "cell_type": "markdown",
   "metadata": {},
   "source": [
    "## Run RF with top MAX_FEATURES"
   ]
  },
  {
   "cell_type": "code",
   "execution_count": 14,
   "metadata": {},
   "outputs": [
    {
     "data": {
      "text/plain": [
       "SelectFromModel(estimator=RandomForestRegressor(bootstrap=True, ccp_alpha=0.0,\n",
       "                                                criterion='mse', max_depth=None,\n",
       "                                                max_features='auto',\n",
       "                                                max_leaf_nodes=None,\n",
       "                                                max_samples=None,\n",
       "                                                min_impurity_decrease=0.0,\n",
       "                                                min_impurity_split=None,\n",
       "                                                min_samples_leaf=1,\n",
       "                                                min_samples_split=2,\n",
       "                                                min_weight_fraction_leaf=0.0,\n",
       "                                                n_estimators=20, n_jobs=None,\n",
       "                                                oob_score=False,\n",
       "                                                random_state=None, verbose=0,\n",
       "                                                warm_start=False),\n",
       "                max_features=20, norm_order=1, prefit=False, threshold=None)"
      ]
     },
     "execution_count": 14,
     "metadata": {},
     "output_type": "execute_result"
    }
   ],
   "source": [
    "# Create a selector object that will use the random forest classifier with a maximum number of features\n",
    "sfm = SelectFromModel(naive_rf, max_features=MAX_FEATURES)\n",
    "\n",
    "# Train the selector\n",
    "sfm.fit(x_train, y_train)"
   ]
  },
  {
   "cell_type": "code",
   "execution_count": 34,
   "metadata": {},
   "outputs": [
    {
     "data": {
      "text/plain": [
       "array([  3,  11,  25,  28,  31,  34,  36,  56,  65,  69,  70,  75,  81,\n",
       "        89,  90,  91,  92,  94, 172, 181])"
      ]
     },
     "execution_count": 34,
     "metadata": {},
     "output_type": "execute_result"
    }
   ],
   "source": [
    "sfm.get_support(indices=True)"
   ]
  },
  {
   "cell_type": "code",
   "execution_count": 36,
   "metadata": {},
   "outputs": [],
   "source": [
    "# Create df with top features. Append year and target variable.\n",
    "year_index = df.columns.get_loc(\"Year\")\n",
    "target_index = df.columns.get_loc(TARGET)\n",
    "\n",
    "n_df = df_no_id.iloc[:, np.append(sfm.get_support(indices=True), [year_index, target_index])]"
   ]
  },
  {
   "cell_type": "code",
   "execution_count": 37,
   "metadata": {},
   "outputs": [],
   "source": [
    "train, test = model.sampling_data(n_df)\n",
    "x_train, y_train, x_test, y_test = model.split_data(train, test, TARGET)\n",
    "\n",
    "est = 20\n",
    "sel = model.RF\n",
    "\n",
    "naive_rf_feature_importance, naive_rf, naive_rf_preds = model.run_model(x_train, y_train, x_test, est, sel)"
   ]
  },
  {
   "cell_type": "markdown",
   "metadata": {},
   "source": [
    "## Evaluation"
   ]
  },
  {
   "cell_type": "code",
   "execution_count": 43,
   "metadata": {
    "scrolled": true
   },
   "outputs": [
    {
     "data": {
      "text/plain": [
       "0.0020192049204413"
      ]
     },
     "execution_count": 43,
     "metadata": {},
     "output_type": "execute_result"
    }
   ],
   "source": [
    "mean_squared_error(y_test, naive_rf_preds)"
   ]
  },
  {
   "cell_type": "code",
   "execution_count": 47,
   "metadata": {},
   "outputs": [
    {
     "data": {
      "text/plain": [
       "887.4785546649709"
      ]
     },
     "execution_count": 47,
     "metadata": {},
     "output_type": "execute_result"
    }
   ],
   "source": [
    "import numpy as np\n",
    "mean_absolute_error(np.exp(y_test), np.exp(naive_rf_preds))"
   ]
  }
 ],
 "metadata": {
  "kernelspec": {
   "display_name": "Python 3",
   "language": "python",
   "name": "python3"
  },
  "language_info": {
   "codemirror_mode": {
    "name": "ipython",
    "version": 3
   },
   "file_extension": ".py",
   "mimetype": "text/x-python",
   "name": "python",
   "nbconvert_exporter": "python",
   "pygments_lexer": "ipython3",
   "version": "3.7.6"
  }
 },
 "nbformat": 4,
 "nbformat_minor": 2
}
