{
 "cells": [
  {
   "cell_type": "code",
   "execution_count": 39,
   "metadata": {},
   "outputs": [
    {
     "name": "stdout",
     "output_type": "stream",
     "text": [
      "The autoreload extension is already loaded. To reload it, use:\n",
      "  %reload_ext autoreload\n"
     ]
    }
   ],
   "source": [
    "%load_ext autoreload\n",
    "%autoreload 2"
   ]
  },
  {
   "cell_type": "code",
   "execution_count": 40,
   "metadata": {},
   "outputs": [],
   "source": [
    "import clean_data\n",
    "import pandas as pd\n",
    "import modeling_2 as model\n",
    "import numpy as np\n",
    "import matplotlib.pyplot as plt\n",
    "import feature_selection as fs\n",
    "from sklearn.metrics import mean_squared_error\n",
    "from sklearn.metrics import mean_absolute_error"
   ]
  },
  {
   "cell_type": "markdown",
   "metadata": {},
   "source": [
    "The baseline model for changes in median earnings assumes a constant wage growth rate. This rate is a gross approximation since entry-level jobs after college may change at a different rate than the entire industry. Furthermore, different employement sectors and geographic areas will have different earnings growth rates."
   ]
  },
  {
   "cell_type": "code",
   "execution_count": 41,
   "metadata": {},
   "outputs": [],
   "source": [
    "WAGE_GROWTH_RATE = 1.03"
   ]
  },
  {
   "cell_type": "code",
   "execution_count": 49,
   "metadata": {},
   "outputs": [],
   "source": [
    "merged_df = clean_data.runAll()\n",
    "merged_df_no_id = merged_df.drop('UNITID', axis=1)"
   ]
  },
  {
   "cell_type": "code",
   "execution_count": 208,
   "metadata": {},
   "outputs": [
    {
     "data": {
      "text/plain": [
       "Index(['PRED_MD_EARN_WNE_P6', 'Year', 'UNITID'], dtype='object')"
      ]
     },
     "execution_count": 208,
     "metadata": {},
     "output_type": "execute_result"
    }
   ],
   "source": [
    "#test_baseline is starting year of median earnings for each institution\n",
    "test_baseline = merged_df[['UNITID','MD_EARN_WNE_P6', 'Year']]\n",
    "test_baseline = test_baseline[test_baseline['Year'].isin(TEST_YEARS)]\n",
    "test_baseline.reset_index()\n",
    "test_baseline.sort_values(by=['UNITID', 'Year'])\n",
    "test_baseline = test_baseline.rename(columns={\"MD_EARN_WNE_P6\": \"TEST_MD_EARN_WNE_P6\"})\n",
    "\n",
    "#model generates estimated earnings for each institution by applying WAGE_GROWTH_RATE to previous year\n",
    "target = 'MD_EARN_WNE_P6'\n",
    "merged_df_baseline_2013 = pd.DataFrame(merged_df[merged_df['Year'] == 2012]) \n",
    "merged_df_baseline_2013 = merged_df_baseline_2013[['MD_EARN_WNE_P6', 'Year', 'UNITID']]\n",
    "merged_df_baseline_2013[target] = merged_df_baseline_2013[target].apply(lambda x: x + np.log(WAGE_GROWTH_RATE))\n",
    "merged_df_baseline_2013['Year'] = 2013\n",
    "merged_df_baseline_2013.reset_index()\n",
    "\n",
    "merged_df_baseline_2014 = merged_df_baseline_2013.copy()\n",
    "merged_df_baseline_2014[target] = merged_df_baseline_2013[target].apply(lambda x: x + np.log(WAGE_GROWTH_RATE))\n",
    "merged_df_baseline_2014['Year'] = 2014\n",
    "merged_df_baseline_2014.reset_index()\n",
    "\n",
    "merged_baseline = pd.concat([merged_df_baseline_2013, merged_df_baseline_2014])\n",
    "merged_baseline.sort_values(by=['UNITID', 'Year'])\n",
    "merged_baseline=merged_baseline.rename(columns={\"MD_EARN_WNE_P6\": \"PRED_MD_EARN_WNE_P6\"})\n",
    "merged_baseline.columns"
   ]
  },
  {
   "cell_type": "code",
   "execution_count": 210,
   "metadata": {},
   "outputs": [],
   "source": [
    "complete_df = pd.merge(test_baseline, merged_baseline, how='left', on=['UNITID', 'Year'])\n",
    "complete_df = complete_df.dropna()"
   ]
  },
  {
   "cell_type": "markdown",
   "metadata": {},
   "source": [
    "**Model Evaluation**"
   ]
  },
  {
   "cell_type": "code",
   "execution_count": 220,
   "metadata": {},
   "outputs": [
    {
     "data": {
      "text/plain": [
       "0.004897730972596517"
      ]
     },
     "execution_count": 220,
     "metadata": {},
     "output_type": "execute_result"
    }
   ],
   "source": [
    "mean_squared_error(complete_df['TEST_MD_EARN_WNE_P6'], complete_df['PRED_MD_EARN_WNE_P6'])"
   ]
  },
  {
   "cell_type": "code",
   "execution_count": 226,
   "metadata": {},
   "outputs": [
    {
     "data": {
      "text/plain": [
       "1313.7888732394367"
      ]
     },
     "execution_count": 226,
     "metadata": {},
     "output_type": "execute_result"
    }
   ],
   "source": [
    "mean_absolute_error(complete_df['TEST_MD_EARN_WNE_P6'].apply(lambda x: np.exp(x)), \\\n",
    "                                complete_df['PRED_MD_EARN_WNE_P6'].apply(lambda x: np.exp(x)))"
   ]
  },
  {
   "cell_type": "code",
   "execution_count": null,
   "metadata": {},
   "outputs": [],
   "source": []
  }
 ],
 "metadata": {
  "kernelspec": {
   "display_name": "Python 3",
   "language": "python",
   "name": "python3"
  },
  "language_info": {
   "codemirror_mode": {
    "name": "ipython",
    "version": 3
   },
   "file_extension": ".py",
   "mimetype": "text/x-python",
   "name": "python",
   "nbconvert_exporter": "python",
   "pygments_lexer": "ipython3",
   "version": "3.7.6"
  }
 },
 "nbformat": 4,
 "nbformat_minor": 2
}
