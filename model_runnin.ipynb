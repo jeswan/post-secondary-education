{
 "cells": [
  {
   "cell_type": "code",
   "execution_count": 1,
   "metadata": {},
   "outputs": [],
   "source": [
    "import clean_data\n",
    "import feature_selection as fs\n",
    "import modeling_2 as model\n",
    "%load_ext autoreload\n",
    "%autoreload 2"
   ]
  },
  {
   "cell_type": "code",
   "execution_count": 2,
   "metadata": {},
   "outputs": [
    {
     "name": "stderr",
     "output_type": "stream",
     "text": [
      "/Users/williamegan/anaconda3/lib/python3.7/site-packages/pandas/core/frame.py:6692: FutureWarning: Sorting because non-concatenation axis is not aligned. A future version\n",
      "of pandas will change to not sort by default.\n",
      "\n",
      "To accept the future behavior, pass 'sort=False'.\n",
      "\n",
      "To retain the current behavior and silence the warning, pass 'sort=True'.\n",
      "\n",
      "  sort=sort)\n"
     ]
    }
   ],
   "source": [
    "df = clean_data.runAll()"
   ]
  },
  {
   "cell_type": "code",
   "execution_count": 3,
   "metadata": {},
   "outputs": [],
   "source": [
    "target = 'MD_EARN_WNE_P6'\n",
    "df_no_id = df.drop('UNITID', axis=1)"
   ]
  },
  {
   "cell_type": "code",
   "execution_count": 4,
   "metadata": {},
   "outputs": [],
   "source": [
    "f_cols =['DEP_INC_AVG', 'DEP_INC_PCT_LO', 'FIRST_GEN', 'INC_PCT_H2',\n",
    "       'INC_PCT_LO', 'IND_INC_AVG', 'IND_INC_PCT_LO', 'MD_FAMINC',\n",
    "       'PAR_ED_PCT_HS', 'PAR_ED_PCT_PS', 'PCTPELL', 'PELL_EVER', 'DEG_PROF',\n",
    "       'PREDDEG_1', 'PREDDEG_3', 'CONTROL_3.0', 'HIGHDEG_4', 'ICLEVEL_1.0',\n",
    "       'OPENADMP_1.0', 'OPENADMP_2.0', 'MD_EARN_WNE_P6', 'Year']\n",
    "mut_cols = ['DEPENDENT', 'DEP_INC_AVG', 'DEP_INC_PCT_LO', 'DEP_INC_PCT_M1',\n",
    "       'DEP_STAT_PCT_IND', 'FIRST_GEN', 'HI_INC_DEBT_MDN', 'INC_PCT_H1',\n",
    "       'INC_PCT_H2', 'INC_PCT_LO', 'INC_PCT_M2', 'IND_INC_AVG',\n",
    "       'IND_INC_PCT_LO', 'IND_INC_PCT_M1', 'IND_INC_PCT_M2', 'MD_FAMINC',\n",
    "       'MD_INC_DEBT_MDN', 'PAR_ED_PCT_HS', 'PAR_ED_PCT_PS', 'PELL_EVER',\n",
    "       'MD_EARN_WNE_P6', 'Year']\n",
    "rfe_cols = ['AGE_ENTRY', 'AVGFACSAL', 'DEP_INC_AVG', 'INC_PCT_LO', 'IND_INC_AVG',\n",
    "       'IND_INC_PCT_LO', 'INEXPFTE', 'MD_FAMINC', 'PELL_EVER', 'UGDS',\n",
    "       'UGDS_API', 'UGDS_ASIAN', 'UGDS_MEN', 'UGDS_WOMEN', 'DEG_ART',\n",
    "       'DEG_PROF', 'DEG_HUM', 'DEG_MED', 'CONTROL_3.0', 'OPENADMP_0.0',\n",
    "       'MD_EARN_WNE_P6', 'Year']"
   ]
  },
  {
   "cell_type": "code",
   "execution_count": 5,
   "metadata": {},
   "outputs": [],
   "source": [
    "f_sel_df = df_no_id[f_cols]\n",
    "mut_sel_df= df_no_id[mut_cols]\n",
    "df_rfe =  df_no_id[rfe_cols]"
   ]
  },
  {
   "cell_type": "code",
   "execution_count": null,
   "metadata": {},
   "outputs": [],
   "source": [
    "train, test = model.sampling_data(f_sel_df)\n",
    "x_train, y_train, x_test, y_test = model.split_data(train, test, target)"
   ]
  },
  {
   "cell_type": "markdown",
   "metadata": {},
   "source": [
    "### Run models for each of the data frames"
   ]
  },
  {
   "cell_type": "markdown",
   "metadata": {},
   "source": [
    "### Evaluate models and find best combo of model and selection method"
   ]
  },
  {
   "cell_type": "markdown",
   "metadata": {},
   "source": [
    "### Tune the Best"
   ]
  },
  {
   "cell_type": "markdown",
   "metadata": {},
   "source": [
    "### SHAP the best"
   ]
  },
  {
   "cell_type": "markdown",
   "metadata": {},
   "source": [
    "### Model again without income"
   ]
  },
  {
   "cell_type": "markdown",
   "metadata": {},
   "source": [
    "### Possibly even tune again"
   ]
  },
  {
   "cell_type": "markdown",
   "metadata": {},
   "source": [
    "### SHAP again and that is it"
   ]
  },
  {
   "cell_type": "code",
   "execution_count": null,
   "metadata": {},
   "outputs": [],
   "source": []
  }
 ],
 "metadata": {
  "kernelspec": {
   "display_name": "Python 3",
   "language": "python",
   "name": "python3"
  },
  "language_info": {
   "codemirror_mode": {
    "name": "ipython",
    "version": 3
   },
   "file_extension": ".py",
   "mimetype": "text/x-python",
   "name": "python",
   "nbconvert_exporter": "python",
   "pygments_lexer": "ipython3",
   "version": "3.7.3"
  }
 },
 "nbformat": 4,
 "nbformat_minor": 2
}
