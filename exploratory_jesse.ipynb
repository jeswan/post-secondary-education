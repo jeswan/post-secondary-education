{
 "cells": [
  {
   "cell_type": "code",
   "execution_count": 1,
   "metadata": {},
   "outputs": [],
   "source": [
    "import pandas as pd\n",
    "import numpy as np\n",
    "from collections import defaultdict"
   ]
  },
  {
   "cell_type": "code",
   "execution_count": 2,
   "metadata": {},
   "outputs": [
    {
     "name": "stderr",
     "output_type": "stream",
     "text": [
      "//anaconda3/lib/python3.7/site-packages/IPython/core/interactiveshell.py:3057: DtypeWarning: Columns (1) have mixed types. Specify dtype option on import or set low_memory=False.\n",
      "  interactivity=interactivity, compiler=compiler, result=result)\n",
      "//anaconda3/lib/python3.7/site-packages/IPython/core/interactiveshell.py:3057: DtypeWarning: Columns (1806,1814) have mixed types. Specify dtype option on import or set low_memory=False.\n",
      "  interactivity=interactivity, compiler=compiler, result=result)\n",
      "//anaconda3/lib/python3.7/site-packages/IPython/core/interactiveshell.py:3057: DtypeWarning: Columns (1,6,442,451,598,607,611,620,624,633,789,802,806,815,971,984,997,1153,1166,1407,1408,1411,1424,1425,1426,1431,1432,1433,1437,1438,1439,1440,1445,1446,1447,1451,1452,1453,1454,1459,1460,1461,1465,1466,1467,1468,1473,1474,1475,1479,1480,1481,1482,1487,1488,1489,1501,1502,1537,1538,1539,1540,1541,1542,1606,1609,1610,1611,1613,1614,1615,1616,1688,1689,1690,1691,1692,1908,1909,1910,1911,1912,1913) have mixed types. Specify dtype option on import or set low_memory=False.\n",
      "  interactivity=interactivity, compiler=compiler, result=result)\n",
      "//anaconda3/lib/python3.7/site-packages/IPython/core/interactiveshell.py:3057: DtypeWarning: Columns (1,1909,1910,1911,1912,1913) have mixed types. Specify dtype option on import or set low_memory=False.\n",
      "  interactivity=interactivity, compiler=compiler, result=result)\n",
      "//anaconda3/lib/python3.7/site-packages/IPython/core/interactiveshell.py:3057: DtypeWarning: Columns (1,1408,1431,1432,1433,1489,1537,1538,1539,1540,1542,1606,1610,1611,1614,1615,1616,1729) have mixed types. Specify dtype option on import or set low_memory=False.\n",
      "  interactivity=interactivity, compiler=compiler, result=result)\n",
      "//anaconda3/lib/python3.7/site-packages/IPython/core/interactiveshell.py:3057: DtypeWarning: Columns (1,1447,1537,1540,1542,1606,1614,1615) have mixed types. Specify dtype option on import or set low_memory=False.\n",
      "  interactivity=interactivity, compiler=compiler, result=result)\n",
      "//anaconda3/lib/python3.7/site-packages/IPython/core/interactiveshell.py:3057: DtypeWarning: Columns (1,1537,1540,1542,1606,1614,1615) have mixed types. Specify dtype option on import or set low_memory=False.\n",
      "  interactivity=interactivity, compiler=compiler, result=result)\n",
      "//anaconda3/lib/python3.7/site-packages/IPython/core/interactiveshell.py:3057: DtypeWarning: Columns (1,6,1461,1561,1729,1909,1910,1911,1912,1913) have mixed types. Specify dtype option on import or set low_memory=False.\n",
      "  interactivity=interactivity, compiler=compiler, result=result)\n",
      "//anaconda3/lib/python3.7/site-packages/IPython/core/interactiveshell.py:3057: DtypeWarning: Columns (1537,1540,1542,1575,1606,1614,1615,1729,1909,1910,1911,1912,1913) have mixed types. Specify dtype option on import or set low_memory=False.\n",
      "  interactivity=interactivity, compiler=compiler, result=result)\n",
      "//anaconda3/lib/python3.7/site-packages/IPython/core/interactiveshell.py:3057: DtypeWarning: Columns (1537,1540,1542,1547,1548,1549,1561,1575,1606,1614,1615,1729,1909,1910,1911,1912,1913) have mixed types. Specify dtype option on import or set low_memory=False.\n",
      "  interactivity=interactivity, compiler=compiler, result=result)\n",
      "//anaconda3/lib/python3.7/site-packages/IPython/core/interactiveshell.py:3057: DtypeWarning: Columns (6,1169,1170,1171,1172,1173,1174,1175,1177,1178,1179,1180,1183,1184,1185,1186,1187,1188,1196,1199,1200,1209,1212,1213,1222,1223,1224,1225,1226,1227,1235,1236,1237,1238,1239,1240,1248,1251,1252,1253,1255,1257,1261,1264,1265,1266,1268,1270,1274,1275,1276,1277,1278,1279,1281,1287,1288,1289,1290,1291,1292,1294,1303,1304,1316,1317,1326,1327,1328,1329,1330,1331,1335,1339,1340,1341,1342,1343,1344,1348,1379,1380,1381,1382,1383,1384,1385,1386,1387,1388,1389,1390,1391,1392,1393,1394,1395,1396,1397,1398,1399,1400,1401,1402,1403,1404,1405,1406,1407,1411,1426,1427,1475,1476,1479,1480,1483,1484,1487,1488,1489,1490,1491,1492,1493,1494,1495,1496,1497,1498,1499,1500,1501,1502,1503,1517,1529,1530,1532,1537,1540,1541,1542,1575,1576,1577,1578,1579,1580,1581,1582,1583,1584,1585,1586,1587,1588,1589,1590,1591,1592,1593,1594,1595,1596,1597,1598,1599,1600,1601,1602,1606,1609,1610,1613,1614,1615,1708,1729,1909,1910,1911,1912,1913) have mixed types. Specify dtype option on import or set low_memory=False.\n",
      "  interactivity=interactivity, compiler=compiler, result=result)\n",
      "//anaconda3/lib/python3.7/site-packages/IPython/core/interactiveshell.py:3057: DtypeWarning: Columns (6,1729,1909,1910,1911,1912,1913) have mixed types. Specify dtype option on import or set low_memory=False.\n",
      "  interactivity=interactivity, compiler=compiler, result=result)\n",
      "//anaconda3/lib/python3.7/site-packages/IPython/core/interactiveshell.py:3057: DtypeWarning: Columns (6,1379,1380,1381,1382,1383,1384,1385,1386,1387,1388,1389,1390,1391,1392,1393,1394,1395,1396,1397,1398,1399,1400,1401,1402,1403,1404,1405,1406,1407,1408,1431,1432,1503,1504,1517,1518,1519,1529,1530,1531,1532,1534,1535,1537,1538,1539,1540,1542,1575,1576,1577,1578,1579,1580,1581,1582,1583,1584,1585,1586,1587,1588,1589,1590,1591,1592,1593,1594,1595,1596,1597,1598,1599,1600,1601,1602,1606,1610,1611,1614,1615,1616,1708,1729,1909,1910,1911,1912,1913) have mixed types. Specify dtype option on import or set low_memory=False.\n",
      "  interactivity=interactivity, compiler=compiler, result=result)\n",
      "//anaconda3/lib/python3.7/site-packages/IPython/core/interactiveshell.py:3057: DtypeWarning: Columns (31,1726,1727,1728,1729,1815,1817,1823,1830,1879,1880,1881,1882,1883,1884,1885,1886,1887,1888,1889,1890,1891,1892,1893,1894,1895,1896,1897,1898,1957,1958,1959,1960,1961,1962,1963,1964,1965,1966,1967,1968,1969,1970,1971,1972,1973,1974,1975,1976) have mixed types. Specify dtype option on import or set low_memory=False.\n",
      "  interactivity=interactivity, compiler=compiler, result=result)\n"
     ]
    }
   ],
   "source": [
    "START_YEAR = 1996\n",
    "END_YEAR = 2018\n",
    "dfs = {}\n",
    "\n",
    "for year in range(START_YEAR, END_YEAR):\n",
    "    year_YY = year % 100\n",
    "    dfs[year] = pd.read_csv('CollegeScorecard_Raw_Data/MERGED' + \\\n",
    "                            str(year) + '_{:02d}_PP.CSV'.format((year_YY + 1) % 100), delimiter=',')"
   ]
  },
  {
   "cell_type": "code",
   "execution_count": 3,
   "metadata": {},
   "outputs": [
    {
     "name": "stdout",
     "output_type": "stream",
     "text": [
      "defaultdict(<class 'int'>, {'MD_EARN_WNE_P6': 8, 'MD_EARN_WNE_P8': 7, 'MD_EARN_WNE_P10': 6, 'MN_EARN_WNE_P6': 8, 'MN_EARN_WNE_P8': 7, 'MN_EARN_WNE_P10': 6, 'CDR2_DENOM': 17, 'CDR3_DENOM': 7})\n"
     ]
    }
   ],
   "source": [
    "NULL_THRESHOLD = 0.5\n",
    "columns_to_drop = set()\n",
    "t=0\n",
    "useful_labs = defaultdict(int)\n",
    "labels = ['MD_EARN_WNE_P6', 'MD_EARN_WNE_P8', 'MD_EARN_WNE_P10', \\\n",
    "          'MN_EARN_WNE_P6', 'MN_EARN_WNE_P8', 'MN_EARN_WNE_P10', \\\n",
    "          'CDR2_DENOM', 'CDR3_DENOM']\n",
    "\n",
    "for lab in labels:\n",
    "    for year in dfs:\n",
    "        df = dfs[year]\n",
    "\n",
    "        d= df[lab]\n",
    "        if d.count() > d.isna().sum():\n",
    "            useful_labs[lab] += 1\n",
    "            #print(lab + str(year - int(lab[-1])))\n",
    "\n",
    "#Number of years where more than 50% of the corresponding label data is present\n",
    "print(useful_labs)"
   ]
  },
  {
   "cell_type": "code",
   "execution_count": 4,
   "metadata": {},
   "outputs": [],
   "source": [
    "earn_start_year = 0\n",
    "earn_end_year = 0\n",
    "earn_year_has_data = {}\n",
    "\n",
    "for year in dfs:\n",
    "    df = dfs[year]\n",
    "\n",
    "    d= df['MD_EARN_WNE_P6']\n",
    "    if d.count() > d.isna().sum():\n",
    "        if earn_start_year == 0:\n",
    "            earn_start_year = year\n",
    "        else:\n",
    "            earn_end_year = year\n",
    "        earn_year_has_data[year] = True"
   ]
  },
  {
   "cell_type": "code",
   "execution_count": 5,
   "metadata": {},
   "outputs": [
    {
     "name": "stdout",
     "output_type": "stream",
     "text": [
      "{2004: True, 2006: True, 2008: True, 2010: True}\n"
     ]
    }
   ],
   "source": [
    "missing_years = {}\n",
    "for year in range(earn_start_year, earn_end_year):\n",
    "    if year not in earn_year_has_data:\n",
    "        missing_years[year] = True\n",
    "print(missing_years)"
   ]
  },
  {
   "cell_type": "code",
   "execution_count": 6,
   "metadata": {},
   "outputs": [
    {
     "name": "stdout",
     "output_type": "stream",
     "text": [
      "UNITID               0\n",
      "Year                 0\n",
      "MD_EARN_WNE_P6    4055\n",
      "dtype: int64\n",
      "UNITID            50720\n",
      "Year              50720\n",
      "MD_EARN_WNE_P6    50720\n",
      "dtype: int64\n"
     ]
    }
   ],
   "source": [
    "df_year_earnings = pd.DataFrame(columns = ['UNITID', 'Year', 'MD_EARN_WNE_P6']) \n",
    "\n",
    "for year in range(earn_start_year, earn_end_year):\n",
    "    if year not in missing_years:\n",
    "        df = dfs[year]\n",
    "        df['Year'] = year\n",
    "        #print(df[['UNITID', 'Year', 'MD_EARN_WNE_P6']])\n",
    "        df_year_earnings = df_year_earnings.append(df[['UNITID', 'Year', 'MD_EARN_WNE_P6']])\n",
    "#print(df_year_earnings)\n",
    "print(df_year_earnings.isna().sum())\n",
    "print(df_year_earnings.isna().count())\n",
    "\n",
    "set_ids = set(df_year_earnings['UNITID'])"
   ]
  },
  {
   "cell_type": "code",
   "execution_count": null,
   "metadata": {},
   "outputs": [
    {
     "name": "stderr",
     "output_type": "stream",
     "text": [
      "//anaconda3/lib/python3.7/site-packages/pandas/core/frame.py:6692: FutureWarning: Sorting because non-concatenation axis is not aligned. A future version\n",
      "of pandas will change to not sort by default.\n",
      "\n",
      "To accept the future behavior, pass 'sort=False'.\n",
      "\n",
      "To retain the current behavior and silence the warning, pass 'sort=True'.\n",
      "\n",
      "  sort=sort)\n"
     ]
    }
   ],
   "source": [
    "from scipy.interpolate import InterpolatedUnivariateSpline\n",
    "\n",
    "for unit_id in set_ids:\n",
    "    entry = df_year_earnings.loc[df_year_earnings['UNITID'] == unit_id].sort_values(by=['Year'])\n",
    "    \n",
    "    #need to clean data and remove data with missing years\n",
    "    if len(entry.index) < earn_end_year - earn_start_year - len(missing_years):\n",
    "        df_year_earnings[df_year_earnings.UNITID != unit_id]\n",
    "        continue\n",
    "        \n",
    "    x = entry['Year']\n",
    "    y = entry['MD_EARN_WNE_P6']\n",
    "    try:\n",
    "        spl = InterpolatedUnivariateSpline(x, y)\n",
    "    except ValueError:\n",
    "        data = [unit_id, year, float(interp_earn)]\n",
    "        new_earn_df = pd.DataFrame([{'UNITID': data[0], 'Year': data[1], 'MD_EARN_WNE_P6': np.NaN}]) \n",
    "        df_year_earnings = df_year_earnings.append(new_earn_df)\n",
    "        continue\n",
    "        \n",
    "    for year in missing_years:\n",
    "        interp_earn = spl(year)\n",
    "        data = [unit_id, year, float(interp_earn)]\n",
    "        new_earn_df = pd.DataFrame([{'UNITID': data[0], 'Year': data[1], 'MD_EARN_WNE_P6': data[2]}]) \n",
    "        df_year_earnings = df_year_earnings.append(new_earn_df)\n",
    "    "
   ]
  },
  {
   "cell_type": "code",
   "execution_count": null,
   "metadata": {},
   "outputs": [],
   "source": [
    "#open questions...\n",
    "#drop all rows with NaNs/privacy suppressed for median earnings?\n",
    "\n",
    "print(df_year_earnings[['UNITID', 'Year', 'MD_EARN_WNE_P6']])\n",
    "#print(sorted(columns_to_drop))\n",
    "#columns_to_drop.update(df.columns[df.isnull().mean() < NULL_THRESHOLD].values)\n",
    "#        r =  dfs[year]['MD_EARN_WNE_P' + p].isna().sum() / (dfs[year]['MD_EARN_WNE_P' + p].count() + dfs[year]['MD_EARN_WNE_P6'].isna().sum() )\n",
    "#print(len(columns_to_drop))\n",
    "#print(len(dfs[2000].columns))"
   ]
  },
  {
   "cell_type": "code",
   "execution_count": null,
   "metadata": {},
   "outputs": [],
   "source": [
    "print(df_year_earnings.loc[df_year_earnings['UNITID']==100690].sort_values(by=['Year']))"
   ]
  },
  {
   "cell_type": "code",
   "execution_count": null,
   "metadata": {},
   "outputs": [],
   "source": []
  }
 ],
 "metadata": {
  "kernelspec": {
   "display_name": "Python 3",
   "language": "python",
   "name": "python3"
  },
  "language_info": {
   "codemirror_mode": {
    "name": "ipython",
    "version": 3
   },
   "file_extension": ".py",
   "mimetype": "text/x-python",
   "name": "python",
   "nbconvert_exporter": "python",
   "pygments_lexer": "ipython3",
   "version": "3.7.3"
  }
 },
 "nbformat": 4,
 "nbformat_minor": 2
}
