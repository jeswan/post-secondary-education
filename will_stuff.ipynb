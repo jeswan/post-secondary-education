{
 "cells": [
  {
   "cell_type": "code",
   "execution_count": 16,
   "metadata": {},
   "outputs": [],
   "source": [
    "import import_ipynb\n",
    "import clean_data\n",
    "import feature_selection as fs\n",
    "import pandas as pd\n",
    "import modeling_2 as model\n",
    "import numpy as np\n",
    "import shap"
   ]
  },
  {
   "cell_type": "code",
   "execution_count": 17,
   "metadata": {},
   "outputs": [
    {
     "name": "stderr",
     "output_type": "stream",
     "text": [
      "/Users/williamegan/anaconda3/lib/python3.7/site-packages/pandas/core/frame.py:6692: FutureWarning: Sorting because non-concatenation axis is not aligned. A future version\n",
      "of pandas will change to not sort by default.\n",
      "\n",
      "To accept the future behavior, pass 'sort=False'.\n",
      "\n",
      "To retain the current behavior and silence the warning, pass 'sort=True'.\n",
      "\n",
      "  sort=sort)\n",
      "/Users/williamegan/anaconda3/lib/python3.7/site-packages/sklearn/utils/extmath.py:747: RuntimeWarning: invalid value encountered in true_divide\n",
      "  updated_mean = (last_sum + new_sum) / updated_sample_count\n",
      "/Users/williamegan/anaconda3/lib/python3.7/site-packages/sklearn/utils/extmath.py:688: RuntimeWarning: Degrees of freedom <= 0 for slice.\n",
      "  result = op(x, *args, **kwargs)\n"
     ]
    }
   ],
   "source": [
    "df = clean_data.runAll()"
   ]
  },
  {
   "cell_type": "code",
   "execution_count": 18,
   "metadata": {},
   "outputs": [
    {
     "data": {
      "text/html": [
       "<div>\n",
       "<style scoped>\n",
       "    .dataframe tbody tr th:only-of-type {\n",
       "        vertical-align: middle;\n",
       "    }\n",
       "\n",
       "    .dataframe tbody tr th {\n",
       "        vertical-align: top;\n",
       "    }\n",
       "\n",
       "    .dataframe thead th {\n",
       "        text-align: right;\n",
       "    }\n",
       "</style>\n",
       "<table border=\"1\" class=\"dataframe\">\n",
       "  <thead>\n",
       "    <tr style=\"text-align: right;\">\n",
       "      <th></th>\n",
       "      <th>ADM_RATE</th>\n",
       "      <th>AGEGE24</th>\n",
       "      <th>AGE_ENTRY</th>\n",
       "      <th>AVGFACSAL</th>\n",
       "      <th>COSTT4_A</th>\n",
       "      <th>COSTT4_P</th>\n",
       "      <th>D150_4_AIANOLD</th>\n",
       "      <th>D150_4_HISPOLD</th>\n",
       "      <th>D150_L4_AIANOLD</th>\n",
       "      <th>D150_L4_HISPOLD</th>\n",
       "      <th>...</th>\n",
       "      <th>ICLEVEL_2.0</th>\n",
       "      <th>ICLEVEL_3.0</th>\n",
       "      <th>OPENADMP_0.0</th>\n",
       "      <th>OPENADMP_1.0</th>\n",
       "      <th>OPENADMP_2.0</th>\n",
       "      <th>OPENADMP_3.0</th>\n",
       "      <th>OPEFLAG_0.0</th>\n",
       "      <th>Year</th>\n",
       "      <th>MD_EARN_WNE_P6</th>\n",
       "      <th>UNITID</th>\n",
       "    </tr>\n",
       "  </thead>\n",
       "  <tbody>\n",
       "    <tr>\n",
       "      <th>0</th>\n",
       "      <td>9.045443e-15</td>\n",
       "      <td>7.286146e-15</td>\n",
       "      <td>7.887246e-14</td>\n",
       "      <td>1.423163e-15</td>\n",
       "      <td>-5.605858e-16</td>\n",
       "      <td>-1.976654e-15</td>\n",
       "      <td>-1.432515e-16</td>\n",
       "      <td>2.050273e-16</td>\n",
       "      <td>-1.591012e-16</td>\n",
       "      <td>0.0</td>\n",
       "      <td>...</td>\n",
       "      <td>0</td>\n",
       "      <td>0</td>\n",
       "      <td>1</td>\n",
       "      <td>0</td>\n",
       "      <td>0</td>\n",
       "      <td>0</td>\n",
       "      <td>1</td>\n",
       "      <td>2009.319312</td>\n",
       "      <td>29471.207226</td>\n",
       "      <td>199849.105624</td>\n",
       "    </tr>\n",
       "    <tr>\n",
       "      <th>1</th>\n",
       "      <td>9.045443e-15</td>\n",
       "      <td>7.286146e-15</td>\n",
       "      <td>7.887246e-14</td>\n",
       "      <td>1.423163e-15</td>\n",
       "      <td>-5.605858e-16</td>\n",
       "      <td>-1.976654e-15</td>\n",
       "      <td>-1.432515e-16</td>\n",
       "      <td>2.050273e-16</td>\n",
       "      <td>-1.591012e-16</td>\n",
       "      <td>0.0</td>\n",
       "      <td>...</td>\n",
       "      <td>0</td>\n",
       "      <td>0</td>\n",
       "      <td>1</td>\n",
       "      <td>0</td>\n",
       "      <td>0</td>\n",
       "      <td>0</td>\n",
       "      <td>1</td>\n",
       "      <td>2009.319312</td>\n",
       "      <td>29471.207226</td>\n",
       "      <td>199849.105624</td>\n",
       "    </tr>\n",
       "    <tr>\n",
       "      <th>2</th>\n",
       "      <td>9.045443e-15</td>\n",
       "      <td>7.286146e-15</td>\n",
       "      <td>7.887246e-14</td>\n",
       "      <td>1.423163e-15</td>\n",
       "      <td>-5.605858e-16</td>\n",
       "      <td>-1.976654e-15</td>\n",
       "      <td>-1.432515e-16</td>\n",
       "      <td>2.050273e-16</td>\n",
       "      <td>-1.591012e-16</td>\n",
       "      <td>0.0</td>\n",
       "      <td>...</td>\n",
       "      <td>0</td>\n",
       "      <td>0</td>\n",
       "      <td>1</td>\n",
       "      <td>0</td>\n",
       "      <td>0</td>\n",
       "      <td>0</td>\n",
       "      <td>1</td>\n",
       "      <td>2009.319312</td>\n",
       "      <td>29471.207226</td>\n",
       "      <td>199849.105624</td>\n",
       "    </tr>\n",
       "    <tr>\n",
       "      <th>3</th>\n",
       "      <td>9.045443e-15</td>\n",
       "      <td>7.286146e-15</td>\n",
       "      <td>7.887246e-14</td>\n",
       "      <td>1.423163e-15</td>\n",
       "      <td>-5.605858e-16</td>\n",
       "      <td>-1.976654e-15</td>\n",
       "      <td>-1.432515e-16</td>\n",
       "      <td>2.050273e-16</td>\n",
       "      <td>-1.591012e-16</td>\n",
       "      <td>0.0</td>\n",
       "      <td>...</td>\n",
       "      <td>0</td>\n",
       "      <td>0</td>\n",
       "      <td>1</td>\n",
       "      <td>0</td>\n",
       "      <td>0</td>\n",
       "      <td>0</td>\n",
       "      <td>1</td>\n",
       "      <td>2009.319312</td>\n",
       "      <td>29471.207226</td>\n",
       "      <td>199849.105624</td>\n",
       "    </tr>\n",
       "    <tr>\n",
       "      <th>4</th>\n",
       "      <td>9.045443e-15</td>\n",
       "      <td>7.286146e-15</td>\n",
       "      <td>7.887246e-14</td>\n",
       "      <td>1.423163e-15</td>\n",
       "      <td>-5.605858e-16</td>\n",
       "      <td>-1.976654e-15</td>\n",
       "      <td>-1.432515e-16</td>\n",
       "      <td>2.050273e-16</td>\n",
       "      <td>-1.591012e-16</td>\n",
       "      <td>0.0</td>\n",
       "      <td>...</td>\n",
       "      <td>0</td>\n",
       "      <td>0</td>\n",
       "      <td>1</td>\n",
       "      <td>0</td>\n",
       "      <td>0</td>\n",
       "      <td>0</td>\n",
       "      <td>1</td>\n",
       "      <td>2009.319312</td>\n",
       "      <td>29471.207226</td>\n",
       "      <td>199849.105624</td>\n",
       "    </tr>\n",
       "  </tbody>\n",
       "</table>\n",
       "<p>5 rows × 193 columns</p>\n",
       "</div>"
      ],
      "text/plain": [
       "       ADM_RATE       AGEGE24     AGE_ENTRY     AVGFACSAL      COSTT4_A  \\\n",
       "0  9.045443e-15  7.286146e-15  7.887246e-14  1.423163e-15 -5.605858e-16   \n",
       "1  9.045443e-15  7.286146e-15  7.887246e-14  1.423163e-15 -5.605858e-16   \n",
       "2  9.045443e-15  7.286146e-15  7.887246e-14  1.423163e-15 -5.605858e-16   \n",
       "3  9.045443e-15  7.286146e-15  7.887246e-14  1.423163e-15 -5.605858e-16   \n",
       "4  9.045443e-15  7.286146e-15  7.887246e-14  1.423163e-15 -5.605858e-16   \n",
       "\n",
       "       COSTT4_P  D150_4_AIANOLD  D150_4_HISPOLD  D150_L4_AIANOLD  \\\n",
       "0 -1.976654e-15   -1.432515e-16    2.050273e-16    -1.591012e-16   \n",
       "1 -1.976654e-15   -1.432515e-16    2.050273e-16    -1.591012e-16   \n",
       "2 -1.976654e-15   -1.432515e-16    2.050273e-16    -1.591012e-16   \n",
       "3 -1.976654e-15   -1.432515e-16    2.050273e-16    -1.591012e-16   \n",
       "4 -1.976654e-15   -1.432515e-16    2.050273e-16    -1.591012e-16   \n",
       "\n",
       "   D150_L4_HISPOLD  ...  ICLEVEL_2.0  ICLEVEL_3.0  OPENADMP_0.0  OPENADMP_1.0  \\\n",
       "0              0.0  ...            0            0             1             0   \n",
       "1              0.0  ...            0            0             1             0   \n",
       "2              0.0  ...            0            0             1             0   \n",
       "3              0.0  ...            0            0             1             0   \n",
       "4              0.0  ...            0            0             1             0   \n",
       "\n",
       "   OPENADMP_2.0  OPENADMP_3.0  OPEFLAG_0.0         Year  MD_EARN_WNE_P6  \\\n",
       "0             0             0            1  2009.319312    29471.207226   \n",
       "1             0             0            1  2009.319312    29471.207226   \n",
       "2             0             0            1  2009.319312    29471.207226   \n",
       "3             0             0            1  2009.319312    29471.207226   \n",
       "4             0             0            1  2009.319312    29471.207226   \n",
       "\n",
       "          UNITID  \n",
       "0  199849.105624  \n",
       "1  199849.105624  \n",
       "2  199849.105624  \n",
       "3  199849.105624  \n",
       "4  199849.105624  \n",
       "\n",
       "[5 rows x 193 columns]"
      ]
     },
     "execution_count": 18,
     "metadata": {},
     "output_type": "execute_result"
    }
   ],
   "source": [
    "df.head()"
   ]
  },
  {
   "cell_type": "code",
   "execution_count": 4,
   "metadata": {},
   "outputs": [],
   "source": [
    "target = 'MD_EARN_WNE_P6'\n",
    "df_no_id = df.drop('UNITID', axis=1)\n",
    "n_features_to_select = 20\n",
    "sel = fs.F_REGRESSION"
   ]
  },
  {
   "cell_type": "code",
   "execution_count": 5,
   "metadata": {},
   "outputs": [
    {
     "name": "stderr",
     "output_type": "stream",
     "text": [
      "/Users/williamegan/anaconda3/lib/python3.7/site-packages/sklearn/feature_selection/univariate_selection.py:299: RuntimeWarning: divide by zero encountered in true_divide\n",
      "  corr /= X_norms\n",
      "/Users/williamegan/anaconda3/lib/python3.7/site-packages/sklearn/feature_selection/univariate_selection.py:299: RuntimeWarning: invalid value encountered in true_divide\n",
      "  corr /= X_norms\n",
      "/Users/williamegan/anaconda3/lib/python3.7/site-packages/sklearn/feature_selection/univariate_selection.py:304: RuntimeWarning: invalid value encountered in true_divide\n",
      "  F = corr ** 2 / (1 - corr ** 2) * degrees_of_freedom\n",
      "/Users/williamegan/anaconda3/lib/python3.7/site-packages/scipy/stats/_distn_infrastructure.py:901: RuntimeWarning: invalid value encountered in greater\n",
      "  return (a < x) & (x < b)\n",
      "/Users/williamegan/anaconda3/lib/python3.7/site-packages/scipy/stats/_distn_infrastructure.py:901: RuntimeWarning: invalid value encountered in less\n",
      "  return (a < x) & (x < b)\n",
      "/Users/williamegan/anaconda3/lib/python3.7/site-packages/scipy/stats/_distn_infrastructure.py:1892: RuntimeWarning: invalid value encountered in less_equal\n",
      "  cond2 = cond0 & (x <= _a)\n",
      "/Users/williamegan/Desktop/education_project/College_Project/feature_selection.py:25: SettingWithCopyWarning: \n",
      "A value is trying to be set on a copy of a slice from a DataFrame.\n",
      "Try using .loc[row_indexer,col_indexer] = value instead\n",
      "\n",
      "See the caveats in the documentation: http://pandas.pydata.org/pandas-docs/stable/indexing.html#indexing-view-versus-copy\n",
      "  new_df[target] = merged_df_no_id[target]\n",
      "/Users/williamegan/Desktop/education_project/College_Project/feature_selection.py:29: SettingWithCopyWarning: \n",
      "A value is trying to be set on a copy of a slice from a DataFrame.\n",
      "Try using .loc[row_indexer,col_indexer] = value instead\n",
      "\n",
      "See the caveats in the documentation: http://pandas.pydata.org/pandas-docs/stable/indexing.html#indexing-view-versus-copy\n",
      "  new_df['Year'] = merged_df_no_id['Year']\n"
     ]
    }
   ],
   "source": [
    "selected_df = fs.selectFeatures(df_no_id, target, n_features_to_select, sel)"
   ]
  },
  {
   "cell_type": "code",
   "execution_count": 6,
   "metadata": {},
   "outputs": [],
   "source": [
    "target = 'MD_EARN_WNE_P6'"
   ]
  },
  {
   "cell_type": "code",
   "execution_count": 7,
   "metadata": {},
   "outputs": [
    {
     "data": {
      "text/html": [
       "<div>\n",
       "<style scoped>\n",
       "    .dataframe tbody tr th:only-of-type {\n",
       "        vertical-align: middle;\n",
       "    }\n",
       "\n",
       "    .dataframe tbody tr th {\n",
       "        vertical-align: top;\n",
       "    }\n",
       "\n",
       "    .dataframe thead th {\n",
       "        text-align: right;\n",
       "    }\n",
       "</style>\n",
       "<table border=\"1\" class=\"dataframe\">\n",
       "  <thead>\n",
       "    <tr style=\"text-align: right;\">\n",
       "      <th></th>\n",
       "      <th>AVGFACSAL</th>\n",
       "      <th>DEP_INC_AVG</th>\n",
       "      <th>DEP_INC_PCT_LO</th>\n",
       "      <th>FIRST_GEN</th>\n",
       "      <th>INC_PCT_H1</th>\n",
       "      <th>INC_PCT_H2</th>\n",
       "      <th>INC_PCT_LO</th>\n",
       "      <th>IND_INC_AVG</th>\n",
       "      <th>IND_INC_PCT_LO</th>\n",
       "      <th>LO_INC_DEBT_MDN</th>\n",
       "      <th>...</th>\n",
       "      <th>PAR_ED_PCT_PS</th>\n",
       "      <th>PCTPELL</th>\n",
       "      <th>PELL_EVER</th>\n",
       "      <th>TUITIONFEE_OUT</th>\n",
       "      <th>PREDDEG_3.0</th>\n",
       "      <th>HIGHDEG_4.0</th>\n",
       "      <th>ICLEVEL_1.0</th>\n",
       "      <th>OPENADMP_1.0</th>\n",
       "      <th>MD_EARN_WNE_P6</th>\n",
       "      <th>Year</th>\n",
       "    </tr>\n",
       "  </thead>\n",
       "  <tbody>\n",
       "    <tr>\n",
       "      <th>0</th>\n",
       "      <td>1.423163e-15</td>\n",
       "      <td>8.412985e-15</td>\n",
       "      <td>4.589509e-15</td>\n",
       "      <td>-1.490189e-14</td>\n",
       "      <td>0.0</td>\n",
       "      <td>-3.331136e-15</td>\n",
       "      <td>7.584388e-15</td>\n",
       "      <td>6.231575e-16</td>\n",
       "      <td>-3.983825e-15</td>\n",
       "      <td>-5.399481e-16</td>\n",
       "      <td>...</td>\n",
       "      <td>2.622733e-14</td>\n",
       "      <td>-1.891149e-15</td>\n",
       "      <td>-1.759416e-15</td>\n",
       "      <td>-5.957793e-16</td>\n",
       "      <td>0</td>\n",
       "      <td>0</td>\n",
       "      <td>0</td>\n",
       "      <td>0</td>\n",
       "      <td>29471.207226</td>\n",
       "      <td>2009.319312</td>\n",
       "    </tr>\n",
       "    <tr>\n",
       "      <th>1</th>\n",
       "      <td>1.423163e-15</td>\n",
       "      <td>8.412985e-15</td>\n",
       "      <td>4.589509e-15</td>\n",
       "      <td>-1.490189e-14</td>\n",
       "      <td>0.0</td>\n",
       "      <td>-3.331136e-15</td>\n",
       "      <td>7.584388e-15</td>\n",
       "      <td>6.231575e-16</td>\n",
       "      <td>-3.983825e-15</td>\n",
       "      <td>-5.399481e-16</td>\n",
       "      <td>...</td>\n",
       "      <td>2.622733e-14</td>\n",
       "      <td>-1.891149e-15</td>\n",
       "      <td>-1.759416e-15</td>\n",
       "      <td>-5.957793e-16</td>\n",
       "      <td>0</td>\n",
       "      <td>0</td>\n",
       "      <td>0</td>\n",
       "      <td>0</td>\n",
       "      <td>29471.207226</td>\n",
       "      <td>2009.319312</td>\n",
       "    </tr>\n",
       "    <tr>\n",
       "      <th>2</th>\n",
       "      <td>1.423163e-15</td>\n",
       "      <td>8.412985e-15</td>\n",
       "      <td>4.589509e-15</td>\n",
       "      <td>-1.490189e-14</td>\n",
       "      <td>0.0</td>\n",
       "      <td>-3.331136e-15</td>\n",
       "      <td>7.584388e-15</td>\n",
       "      <td>6.231575e-16</td>\n",
       "      <td>-3.983825e-15</td>\n",
       "      <td>-5.399481e-16</td>\n",
       "      <td>...</td>\n",
       "      <td>2.622733e-14</td>\n",
       "      <td>-1.891149e-15</td>\n",
       "      <td>-1.759416e-15</td>\n",
       "      <td>-5.957793e-16</td>\n",
       "      <td>0</td>\n",
       "      <td>0</td>\n",
       "      <td>0</td>\n",
       "      <td>0</td>\n",
       "      <td>29471.207226</td>\n",
       "      <td>2009.319312</td>\n",
       "    </tr>\n",
       "    <tr>\n",
       "      <th>3</th>\n",
       "      <td>1.423163e-15</td>\n",
       "      <td>8.412985e-15</td>\n",
       "      <td>4.589509e-15</td>\n",
       "      <td>-1.490189e-14</td>\n",
       "      <td>0.0</td>\n",
       "      <td>-3.331136e-15</td>\n",
       "      <td>7.584388e-15</td>\n",
       "      <td>6.231575e-16</td>\n",
       "      <td>-3.983825e-15</td>\n",
       "      <td>-5.399481e-16</td>\n",
       "      <td>...</td>\n",
       "      <td>2.622733e-14</td>\n",
       "      <td>-1.891149e-15</td>\n",
       "      <td>-1.759416e-15</td>\n",
       "      <td>-5.957793e-16</td>\n",
       "      <td>0</td>\n",
       "      <td>0</td>\n",
       "      <td>0</td>\n",
       "      <td>0</td>\n",
       "      <td>29471.207226</td>\n",
       "      <td>2009.319312</td>\n",
       "    </tr>\n",
       "    <tr>\n",
       "      <th>4</th>\n",
       "      <td>1.423163e-15</td>\n",
       "      <td>8.412985e-15</td>\n",
       "      <td>4.589509e-15</td>\n",
       "      <td>-1.490189e-14</td>\n",
       "      <td>0.0</td>\n",
       "      <td>-3.331136e-15</td>\n",
       "      <td>7.584388e-15</td>\n",
       "      <td>6.231575e-16</td>\n",
       "      <td>-3.983825e-15</td>\n",
       "      <td>-5.399481e-16</td>\n",
       "      <td>...</td>\n",
       "      <td>2.622733e-14</td>\n",
       "      <td>-1.891149e-15</td>\n",
       "      <td>-1.759416e-15</td>\n",
       "      <td>-5.957793e-16</td>\n",
       "      <td>0</td>\n",
       "      <td>0</td>\n",
       "      <td>0</td>\n",
       "      <td>0</td>\n",
       "      <td>29471.207226</td>\n",
       "      <td>2009.319312</td>\n",
       "    </tr>\n",
       "  </tbody>\n",
       "</table>\n",
       "<p>5 rows × 22 columns</p>\n",
       "</div>"
      ],
      "text/plain": [
       "      AVGFACSAL   DEP_INC_AVG  DEP_INC_PCT_LO     FIRST_GEN  INC_PCT_H1  \\\n",
       "0  1.423163e-15  8.412985e-15    4.589509e-15 -1.490189e-14         0.0   \n",
       "1  1.423163e-15  8.412985e-15    4.589509e-15 -1.490189e-14         0.0   \n",
       "2  1.423163e-15  8.412985e-15    4.589509e-15 -1.490189e-14         0.0   \n",
       "3  1.423163e-15  8.412985e-15    4.589509e-15 -1.490189e-14         0.0   \n",
       "4  1.423163e-15  8.412985e-15    4.589509e-15 -1.490189e-14         0.0   \n",
       "\n",
       "     INC_PCT_H2    INC_PCT_LO   IND_INC_AVG  IND_INC_PCT_LO  LO_INC_DEBT_MDN  \\\n",
       "0 -3.331136e-15  7.584388e-15  6.231575e-16   -3.983825e-15    -5.399481e-16   \n",
       "1 -3.331136e-15  7.584388e-15  6.231575e-16   -3.983825e-15    -5.399481e-16   \n",
       "2 -3.331136e-15  7.584388e-15  6.231575e-16   -3.983825e-15    -5.399481e-16   \n",
       "3 -3.331136e-15  7.584388e-15  6.231575e-16   -3.983825e-15    -5.399481e-16   \n",
       "4 -3.331136e-15  7.584388e-15  6.231575e-16   -3.983825e-15    -5.399481e-16   \n",
       "\n",
       "   ...  PAR_ED_PCT_PS       PCTPELL     PELL_EVER  TUITIONFEE_OUT  \\\n",
       "0  ...   2.622733e-14 -1.891149e-15 -1.759416e-15   -5.957793e-16   \n",
       "1  ...   2.622733e-14 -1.891149e-15 -1.759416e-15   -5.957793e-16   \n",
       "2  ...   2.622733e-14 -1.891149e-15 -1.759416e-15   -5.957793e-16   \n",
       "3  ...   2.622733e-14 -1.891149e-15 -1.759416e-15   -5.957793e-16   \n",
       "4  ...   2.622733e-14 -1.891149e-15 -1.759416e-15   -5.957793e-16   \n",
       "\n",
       "   PREDDEG_3.0  HIGHDEG_4.0  ICLEVEL_1.0  OPENADMP_1.0  MD_EARN_WNE_P6  \\\n",
       "0            0            0            0             0    29471.207226   \n",
       "1            0            0            0             0    29471.207226   \n",
       "2            0            0            0             0    29471.207226   \n",
       "3            0            0            0             0    29471.207226   \n",
       "4            0            0            0             0    29471.207226   \n",
       "\n",
       "          Year  \n",
       "0  2009.319312  \n",
       "1  2009.319312  \n",
       "2  2009.319312  \n",
       "3  2009.319312  \n",
       "4  2009.319312  \n",
       "\n",
       "[5 rows x 22 columns]"
      ]
     },
     "execution_count": 7,
     "metadata": {},
     "output_type": "execute_result"
    }
   ],
   "source": [
    "selected_df.head()"
   ]
  },
  {
   "cell_type": "code",
   "execution_count": 8,
   "metadata": {},
   "outputs": [],
   "source": [
    "train, test = model.sampling_data(selected_df)\n",
    "\n",
    "x_train, y_train, x_test, y_test = model.split_data(train, test, target)"
   ]
  },
  {
   "cell_type": "code",
   "execution_count": 9,
   "metadata": {},
   "outputs": [],
   "source": [
    "from sklearn.model_selection import RandomizedSearchCV\n",
    "from sklearn.ensemble import RandomForestRegressor"
   ]
  },
  {
   "cell_type": "code",
   "execution_count": null,
   "metadata": {},
   "outputs": [],
   "source": []
  },
  {
   "cell_type": "code",
   "execution_count": null,
   "metadata": {},
   "outputs": [],
   "source": []
  },
  {
   "cell_type": "code",
   "execution_count": null,
   "metadata": {},
   "outputs": [],
   "source": []
  },
  {
   "cell_type": "code",
   "execution_count": null,
   "metadata": {},
   "outputs": [],
   "source": []
  },
  {
   "cell_type": "markdown",
   "metadata": {},
   "source": [
    "# DUmb Random CV"
   ]
  },
  {
   "cell_type": "code",
   "execution_count": 14,
   "metadata": {},
   "outputs": [],
   "source": [
    "# Number of trees in random forest\n",
    "n_estimators = [int(x) for x in np.linspace(start = 200, stop = 2000, num = 10)]\n",
    "# Number of features to consider at every split\n",
    "max_features = ['auto', 'sqrt']\n",
    "# Maximum number of levels in tree\n",
    "max_depth = [int(x) for x in np.linspace(10, 110, num = 11)]\n",
    "max_depth.append(None)\n",
    "# Minimum number of samples required to split a node\n",
    "min_samples_split = [2, 5, 10]\n",
    "# Minimum number of samples required at each leaf node\n",
    "min_samples_leaf = [1, 2, 4]\n",
    "# Method of selecting samples for training each tree\n",
    "bootstrap = [True, False]\n",
    "# Create the random grid\n",
    "random_grid = {'n_estimators': n_estimators,\n",
    "               'max_features': max_features,\n",
    "               'max_depth': max_depth,\n",
    "               'min_samples_split': min_samples_split,\n",
    "               'min_samples_leaf': min_samples_leaf,\n",
    "               'bootstrap': bootstrap}"
   ]
  },
  {
   "cell_type": "code",
   "execution_count": 16,
   "metadata": {},
   "outputs": [
    {
     "name": "stdout",
     "output_type": "stream",
     "text": [
      "Fitting 3 folds for each of 100 candidates, totalling 300 fits\n"
     ]
    },
    {
     "name": "stderr",
     "output_type": "stream",
     "text": [
      "[Parallel(n_jobs=-1)]: Using backend LokyBackend with 4 concurrent workers.\n",
      "[Parallel(n_jobs=-1)]: Done  33 tasks      | elapsed: 32.7min\n"
     ]
    },
    {
     "ename": "KeyboardInterrupt",
     "evalue": "",
     "output_type": "error",
     "traceback": [
      "\u001b[0;31m---------------------------------------------------------------------------\u001b[0m",
      "\u001b[0;31mKeyboardInterrupt\u001b[0m                         Traceback (most recent call last)",
      "\u001b[0;32m<ipython-input-16-fb38f7c9d492>\u001b[0m in \u001b[0;36m<module>\u001b[0;34m\u001b[0m\n\u001b[1;32m      2\u001b[0m \u001b[0mrf_random\u001b[0m \u001b[0;34m=\u001b[0m \u001b[0mRandomizedSearchCV\u001b[0m\u001b[0;34m(\u001b[0m\u001b[0mestimator\u001b[0m \u001b[0;34m=\u001b[0m \u001b[0mrf\u001b[0m\u001b[0;34m,\u001b[0m \u001b[0mparam_distributions\u001b[0m \u001b[0;34m=\u001b[0m \u001b[0mrandom_grid\u001b[0m\u001b[0;34m,\u001b[0m \u001b[0mn_iter\u001b[0m \u001b[0;34m=\u001b[0m \u001b[0;36m100\u001b[0m\u001b[0;34m,\u001b[0m \u001b[0mcv\u001b[0m \u001b[0;34m=\u001b[0m \u001b[0;36m3\u001b[0m\u001b[0;34m,\u001b[0m \u001b[0mverbose\u001b[0m\u001b[0;34m=\u001b[0m\u001b[0;36m2\u001b[0m\u001b[0;34m,\u001b[0m \u001b[0mrandom_state\u001b[0m\u001b[0;34m=\u001b[0m\u001b[0;36m42\u001b[0m\u001b[0;34m,\u001b[0m \u001b[0mn_jobs\u001b[0m \u001b[0;34m=\u001b[0m \u001b[0;34m-\u001b[0m\u001b[0;36m1\u001b[0m\u001b[0;34m)\u001b[0m\u001b[0;34m\u001b[0m\u001b[0;34m\u001b[0m\u001b[0m\n\u001b[1;32m      3\u001b[0m \u001b[0;31m# Fit the random search model\u001b[0m\u001b[0;34m\u001b[0m\u001b[0;34m\u001b[0m\u001b[0;34m\u001b[0m\u001b[0m\n\u001b[0;32m----> 4\u001b[0;31m \u001b[0mrf_random\u001b[0m\u001b[0;34m.\u001b[0m\u001b[0mfit\u001b[0m\u001b[0;34m(\u001b[0m\u001b[0mx_train\u001b[0m\u001b[0;34m,\u001b[0m \u001b[0my_train\u001b[0m\u001b[0;34m)\u001b[0m\u001b[0;34m\u001b[0m\u001b[0;34m\u001b[0m\u001b[0m\n\u001b[0m",
      "\u001b[0;32m~/anaconda3/lib/python3.7/site-packages/sklearn/model_selection/_search.py\u001b[0m in \u001b[0;36mfit\u001b[0;34m(self, X, y, groups, **fit_params)\u001b[0m\n\u001b[1;32m    685\u001b[0m                 \u001b[0;32mreturn\u001b[0m \u001b[0mresults\u001b[0m\u001b[0;34m\u001b[0m\u001b[0;34m\u001b[0m\u001b[0m\n\u001b[1;32m    686\u001b[0m \u001b[0;34m\u001b[0m\u001b[0m\n\u001b[0;32m--> 687\u001b[0;31m             \u001b[0mself\u001b[0m\u001b[0;34m.\u001b[0m\u001b[0m_run_search\u001b[0m\u001b[0;34m(\u001b[0m\u001b[0mevaluate_candidates\u001b[0m\u001b[0;34m)\u001b[0m\u001b[0;34m\u001b[0m\u001b[0;34m\u001b[0m\u001b[0m\n\u001b[0m\u001b[1;32m    688\u001b[0m \u001b[0;34m\u001b[0m\u001b[0m\n\u001b[1;32m    689\u001b[0m         \u001b[0;31m# For multi-metric evaluation, store the best_index_, best_params_ and\u001b[0m\u001b[0;34m\u001b[0m\u001b[0;34m\u001b[0m\u001b[0;34m\u001b[0m\u001b[0m\n",
      "\u001b[0;32m~/anaconda3/lib/python3.7/site-packages/sklearn/model_selection/_search.py\u001b[0m in \u001b[0;36m_run_search\u001b[0;34m(self, evaluate_candidates)\u001b[0m\n\u001b[1;32m   1466\u001b[0m         evaluate_candidates(ParameterSampler(\n\u001b[1;32m   1467\u001b[0m             \u001b[0mself\u001b[0m\u001b[0;34m.\u001b[0m\u001b[0mparam_distributions\u001b[0m\u001b[0;34m,\u001b[0m \u001b[0mself\u001b[0m\u001b[0;34m.\u001b[0m\u001b[0mn_iter\u001b[0m\u001b[0;34m,\u001b[0m\u001b[0;34m\u001b[0m\u001b[0;34m\u001b[0m\u001b[0m\n\u001b[0;32m-> 1468\u001b[0;31m             random_state=self.random_state))\n\u001b[0m",
      "\u001b[0;32m~/anaconda3/lib/python3.7/site-packages/sklearn/model_selection/_search.py\u001b[0m in \u001b[0;36mevaluate_candidates\u001b[0;34m(candidate_params)\u001b[0m\n\u001b[1;32m    664\u001b[0m                                \u001b[0;32mfor\u001b[0m \u001b[0mparameters\u001b[0m\u001b[0;34m,\u001b[0m \u001b[0;34m(\u001b[0m\u001b[0mtrain\u001b[0m\u001b[0;34m,\u001b[0m \u001b[0mtest\u001b[0m\u001b[0;34m)\u001b[0m\u001b[0;34m\u001b[0m\u001b[0;34m\u001b[0m\u001b[0m\n\u001b[1;32m    665\u001b[0m                                in product(candidate_params,\n\u001b[0;32m--> 666\u001b[0;31m                                           cv.split(X, y, groups)))\n\u001b[0m\u001b[1;32m    667\u001b[0m \u001b[0;34m\u001b[0m\u001b[0m\n\u001b[1;32m    668\u001b[0m                 \u001b[0;32mif\u001b[0m \u001b[0mlen\u001b[0m\u001b[0;34m(\u001b[0m\u001b[0mout\u001b[0m\u001b[0;34m)\u001b[0m \u001b[0;34m<\u001b[0m \u001b[0;36m1\u001b[0m\u001b[0;34m:\u001b[0m\u001b[0;34m\u001b[0m\u001b[0;34m\u001b[0m\u001b[0m\n",
      "\u001b[0;32m~/anaconda3/lib/python3.7/site-packages/joblib/parallel.py\u001b[0m in \u001b[0;36m__call__\u001b[0;34m(self, iterable)\u001b[0m\n\u001b[1;32m    932\u001b[0m \u001b[0;34m\u001b[0m\u001b[0m\n\u001b[1;32m    933\u001b[0m             \u001b[0;32mwith\u001b[0m \u001b[0mself\u001b[0m\u001b[0;34m.\u001b[0m\u001b[0m_backend\u001b[0m\u001b[0;34m.\u001b[0m\u001b[0mretrieval_context\u001b[0m\u001b[0;34m(\u001b[0m\u001b[0;34m)\u001b[0m\u001b[0;34m:\u001b[0m\u001b[0;34m\u001b[0m\u001b[0;34m\u001b[0m\u001b[0m\n\u001b[0;32m--> 934\u001b[0;31m                 \u001b[0mself\u001b[0m\u001b[0;34m.\u001b[0m\u001b[0mretrieve\u001b[0m\u001b[0;34m(\u001b[0m\u001b[0;34m)\u001b[0m\u001b[0;34m\u001b[0m\u001b[0;34m\u001b[0m\u001b[0m\n\u001b[0m\u001b[1;32m    935\u001b[0m             \u001b[0;31m# Make sure that we get a last message telling us we are done\u001b[0m\u001b[0;34m\u001b[0m\u001b[0;34m\u001b[0m\u001b[0;34m\u001b[0m\u001b[0m\n\u001b[1;32m    936\u001b[0m             \u001b[0melapsed_time\u001b[0m \u001b[0;34m=\u001b[0m \u001b[0mtime\u001b[0m\u001b[0;34m.\u001b[0m\u001b[0mtime\u001b[0m\u001b[0;34m(\u001b[0m\u001b[0;34m)\u001b[0m \u001b[0;34m-\u001b[0m \u001b[0mself\u001b[0m\u001b[0;34m.\u001b[0m\u001b[0m_start_time\u001b[0m\u001b[0;34m\u001b[0m\u001b[0;34m\u001b[0m\u001b[0m\n",
      "\u001b[0;32m~/anaconda3/lib/python3.7/site-packages/joblib/parallel.py\u001b[0m in \u001b[0;36mretrieve\u001b[0;34m(self)\u001b[0m\n\u001b[1;32m    831\u001b[0m             \u001b[0;32mtry\u001b[0m\u001b[0;34m:\u001b[0m\u001b[0;34m\u001b[0m\u001b[0;34m\u001b[0m\u001b[0m\n\u001b[1;32m    832\u001b[0m                 \u001b[0;32mif\u001b[0m \u001b[0mgetattr\u001b[0m\u001b[0;34m(\u001b[0m\u001b[0mself\u001b[0m\u001b[0;34m.\u001b[0m\u001b[0m_backend\u001b[0m\u001b[0;34m,\u001b[0m \u001b[0;34m'supports_timeout'\u001b[0m\u001b[0;34m,\u001b[0m \u001b[0;32mFalse\u001b[0m\u001b[0;34m)\u001b[0m\u001b[0;34m:\u001b[0m\u001b[0;34m\u001b[0m\u001b[0;34m\u001b[0m\u001b[0m\n\u001b[0;32m--> 833\u001b[0;31m                     \u001b[0mself\u001b[0m\u001b[0;34m.\u001b[0m\u001b[0m_output\u001b[0m\u001b[0;34m.\u001b[0m\u001b[0mextend\u001b[0m\u001b[0;34m(\u001b[0m\u001b[0mjob\u001b[0m\u001b[0;34m.\u001b[0m\u001b[0mget\u001b[0m\u001b[0;34m(\u001b[0m\u001b[0mtimeout\u001b[0m\u001b[0;34m=\u001b[0m\u001b[0mself\u001b[0m\u001b[0;34m.\u001b[0m\u001b[0mtimeout\u001b[0m\u001b[0;34m)\u001b[0m\u001b[0;34m)\u001b[0m\u001b[0;34m\u001b[0m\u001b[0;34m\u001b[0m\u001b[0m\n\u001b[0m\u001b[1;32m    834\u001b[0m                 \u001b[0;32melse\u001b[0m\u001b[0;34m:\u001b[0m\u001b[0;34m\u001b[0m\u001b[0;34m\u001b[0m\u001b[0m\n\u001b[1;32m    835\u001b[0m                     \u001b[0mself\u001b[0m\u001b[0;34m.\u001b[0m\u001b[0m_output\u001b[0m\u001b[0;34m.\u001b[0m\u001b[0mextend\u001b[0m\u001b[0;34m(\u001b[0m\u001b[0mjob\u001b[0m\u001b[0;34m.\u001b[0m\u001b[0mget\u001b[0m\u001b[0;34m(\u001b[0m\u001b[0;34m)\u001b[0m\u001b[0;34m)\u001b[0m\u001b[0;34m\u001b[0m\u001b[0;34m\u001b[0m\u001b[0m\n",
      "\u001b[0;32m~/anaconda3/lib/python3.7/site-packages/joblib/_parallel_backends.py\u001b[0m in \u001b[0;36mwrap_future_result\u001b[0;34m(future, timeout)\u001b[0m\n\u001b[1;32m    519\u001b[0m         AsyncResults.get from multiprocessing.\"\"\"\n\u001b[1;32m    520\u001b[0m         \u001b[0;32mtry\u001b[0m\u001b[0;34m:\u001b[0m\u001b[0;34m\u001b[0m\u001b[0;34m\u001b[0m\u001b[0m\n\u001b[0;32m--> 521\u001b[0;31m             \u001b[0;32mreturn\u001b[0m \u001b[0mfuture\u001b[0m\u001b[0;34m.\u001b[0m\u001b[0mresult\u001b[0m\u001b[0;34m(\u001b[0m\u001b[0mtimeout\u001b[0m\u001b[0;34m=\u001b[0m\u001b[0mtimeout\u001b[0m\u001b[0;34m)\u001b[0m\u001b[0;34m\u001b[0m\u001b[0;34m\u001b[0m\u001b[0m\n\u001b[0m\u001b[1;32m    522\u001b[0m         \u001b[0;32mexcept\u001b[0m \u001b[0mLokyTimeoutError\u001b[0m\u001b[0;34m:\u001b[0m\u001b[0;34m\u001b[0m\u001b[0;34m\u001b[0m\u001b[0m\n\u001b[1;32m    523\u001b[0m             \u001b[0;32mraise\u001b[0m \u001b[0mTimeoutError\u001b[0m\u001b[0;34m(\u001b[0m\u001b[0;34m)\u001b[0m\u001b[0;34m\u001b[0m\u001b[0;34m\u001b[0m\u001b[0m\n",
      "\u001b[0;32m~/anaconda3/lib/python3.7/concurrent/futures/_base.py\u001b[0m in \u001b[0;36mresult\u001b[0;34m(self, timeout)\u001b[0m\n\u001b[1;32m    425\u001b[0m                 \u001b[0;32mreturn\u001b[0m \u001b[0mself\u001b[0m\u001b[0;34m.\u001b[0m\u001b[0m__get_result\u001b[0m\u001b[0;34m(\u001b[0m\u001b[0;34m)\u001b[0m\u001b[0;34m\u001b[0m\u001b[0;34m\u001b[0m\u001b[0m\n\u001b[1;32m    426\u001b[0m \u001b[0;34m\u001b[0m\u001b[0m\n\u001b[0;32m--> 427\u001b[0;31m             \u001b[0mself\u001b[0m\u001b[0;34m.\u001b[0m\u001b[0m_condition\u001b[0m\u001b[0;34m.\u001b[0m\u001b[0mwait\u001b[0m\u001b[0;34m(\u001b[0m\u001b[0mtimeout\u001b[0m\u001b[0;34m)\u001b[0m\u001b[0;34m\u001b[0m\u001b[0;34m\u001b[0m\u001b[0m\n\u001b[0m\u001b[1;32m    428\u001b[0m \u001b[0;34m\u001b[0m\u001b[0m\n\u001b[1;32m    429\u001b[0m             \u001b[0;32mif\u001b[0m \u001b[0mself\u001b[0m\u001b[0;34m.\u001b[0m\u001b[0m_state\u001b[0m \u001b[0;32min\u001b[0m \u001b[0;34m[\u001b[0m\u001b[0mCANCELLED\u001b[0m\u001b[0;34m,\u001b[0m \u001b[0mCANCELLED_AND_NOTIFIED\u001b[0m\u001b[0;34m]\u001b[0m\u001b[0;34m:\u001b[0m\u001b[0;34m\u001b[0m\u001b[0;34m\u001b[0m\u001b[0m\n",
      "\u001b[0;32m~/anaconda3/lib/python3.7/threading.py\u001b[0m in \u001b[0;36mwait\u001b[0;34m(self, timeout)\u001b[0m\n\u001b[1;32m    294\u001b[0m         \u001b[0;32mtry\u001b[0m\u001b[0;34m:\u001b[0m    \u001b[0;31m# restore state no matter what (e.g., KeyboardInterrupt)\u001b[0m\u001b[0;34m\u001b[0m\u001b[0;34m\u001b[0m\u001b[0m\n\u001b[1;32m    295\u001b[0m             \u001b[0;32mif\u001b[0m \u001b[0mtimeout\u001b[0m \u001b[0;32mis\u001b[0m \u001b[0;32mNone\u001b[0m\u001b[0;34m:\u001b[0m\u001b[0;34m\u001b[0m\u001b[0;34m\u001b[0m\u001b[0m\n\u001b[0;32m--> 296\u001b[0;31m                 \u001b[0mwaiter\u001b[0m\u001b[0;34m.\u001b[0m\u001b[0macquire\u001b[0m\u001b[0;34m(\u001b[0m\u001b[0;34m)\u001b[0m\u001b[0;34m\u001b[0m\u001b[0;34m\u001b[0m\u001b[0m\n\u001b[0m\u001b[1;32m    297\u001b[0m                 \u001b[0mgotit\u001b[0m \u001b[0;34m=\u001b[0m \u001b[0;32mTrue\u001b[0m\u001b[0;34m\u001b[0m\u001b[0;34m\u001b[0m\u001b[0m\n\u001b[1;32m    298\u001b[0m             \u001b[0;32melse\u001b[0m\u001b[0;34m:\u001b[0m\u001b[0;34m\u001b[0m\u001b[0;34m\u001b[0m\u001b[0m\n",
      "\u001b[0;31mKeyboardInterrupt\u001b[0m: "
     ]
    }
   ],
   "source": [
    "rf = RandomForestRegressor()\n",
    "rf_random = RandomizedSearchCV(estimatovr = rf, param_distributions = random_grid, n_iter = 100, cv = 3, verbose=2, random_state=42, n_jobs = -1)\n",
    "# Fit the random search model\n",
    "rf_random.fit(x_train, y_train)"
   ]
  },
  {
   "cell_type": "code",
   "execution_count": 11,
   "metadata": {},
   "outputs": [
    {
     "name": "stderr",
     "output_type": "stream",
     "text": [
      "/Users/williamegan/anaconda3/lib/python3.7/site-packages/sklearn/ensemble/forest.py:737: UserWarning: Some inputs do not have OOB scores. This probably means too few trees were used to compute any reliable oob estimates.\n",
      "  warn(\"Some inputs do not have OOB scores. \"\n"
     ]
    }
   ],
   "source": [
    "rf_feature_importance, rf, preds = model.run_model(x_train, y_train, x_test, 14, model.RF)"
   ]
  },
  {
   "cell_type": "code",
   "execution_count": 12,
   "metadata": {},
   "outputs": [],
   "source": []
  },
  {
   "cell_type": "code",
   "execution_count": 12,
   "metadata": {},
   "outputs": [],
   "source": [
    "target = 'MD_EARN_WNE_P6'\n",
    "cs = [10**n for n in range(-8, -2)]"
   ]
  },
  {
   "cell_type": "code",
   "execution_count": 14,
   "metadata": {},
   "outputs": [
    {
     "ename": "NameError",
     "evalue": "name 'cs' is not defined",
     "output_type": "error",
     "traceback": [
      "\u001b[0;31m---------------------------------------------------------------------------\u001b[0m",
      "\u001b[0;31mNameError\u001b[0m                                 Traceback (most recent call last)",
      "\u001b[0;32m<ipython-input-14-ade65007fcc1>\u001b[0m in \u001b[0;36m<module>\u001b[0;34m\u001b[0m\n\u001b[0;32m----> 1\u001b[0;31m \u001b[0merrors\u001b[0m \u001b[0;34m=\u001b[0m \u001b[0mmodel\u001b[0m\u001b[0;34m.\u001b[0m\u001b[0mxValSVR\u001b[0m\u001b[0;34m(\u001b[0m\u001b[0mselected_df\u001b[0m\u001b[0;34m,\u001b[0m \u001b[0mtarget\u001b[0m\u001b[0;34m,\u001b[0m \u001b[0;36m5\u001b[0m\u001b[0;34m,\u001b[0m \u001b[0mcs\u001b[0m\u001b[0;34m,\u001b[0m \u001b[0mmodel\u001b[0m\u001b[0;34m.\u001b[0m\u001b[0mMSE\u001b[0m\u001b[0;34m)\u001b[0m\u001b[0;34m\u001b[0m\u001b[0;34m\u001b[0m\u001b[0m\n\u001b[0m",
      "\u001b[0;31mNameError\u001b[0m: name 'cs' is not defined"
     ]
    }
   ],
   "source": [
    "errors = model.xValSVR(selected_df, target, 5, cs, model.MSE)"
   ]
  },
  {
   "cell_type": "code",
   "execution_count": 15,
   "metadata": {},
   "outputs": [
    {
     "name": "stdout",
     "output_type": "stream",
     "text": [
      "[2.812692015366112e-18, 2.8005026818595305e-18, 21937729.725166216, 31628739.01633021, 29744679.304898024]\n",
      "[2.7520100456292218e-18, 2.7883398181325508e-18, 19671406.91059995, 29984442.989022695, 26944571.17065691]\n",
      "[2.8494188345634663e-18, 2.83715009171808e-18, 19836236.37471962, 28962802.947643925, 25858222.91305948]\n",
      "[2.7279225461916776e-18, 2.7279225461916776e-18, 19354028.27844586, 28172396.607650504, 25584780.208486486]\n",
      "[2.9610286602540213e-18, 2.9610286602540213e-18, 19288625.548266258, 28203145.50663693, 25376360.704363428]\n"
     ]
    }
   ],
   "source": [
    "for i in errors:\n",
    "    print(errors[i])"
   ]
  },
  {
   "cell_type": "code",
   "execution_count": null,
   "metadata": {},
   "outputs": [],
   "source": []
  },
  {
   "cell_type": "code",
   "execution_count": null,
   "metadata": {},
   "outputs": [],
   "source": []
  },
  {
   "cell_type": "code",
   "execution_count": null,
   "metadata": {},
   "outputs": [],
   "source": []
  },
  {
   "cell_type": "code",
   "execution_count": null,
   "metadata": {},
   "outputs": [],
   "source": []
  },
  {
   "cell_type": "code",
   "execution_count": null,
   "metadata": {},
   "outputs": [],
   "source": []
  },
  {
   "cell_type": "markdown",
   "metadata": {},
   "source": [
    "# Random forest tuning"
   ]
  },
  {
   "cell_type": "code",
   "execution_count": 10,
   "metadata": {},
   "outputs": [],
   "source": [
    "from sklearn.model_selection import KFold\n",
    "from sklearn.svm import SVR\n",
    "from sklearn.metrics import mean_squared_error\n",
    "from sklearn.metrics import mean_absolute_error\n",
    "from sklearn.ensemble import RandomForestRegressor"
   ]
  },
  {
   "cell_type": "code",
   "execution_count": 11,
   "metadata": {},
   "outputs": [],
   "source": [
    "target = 'MD_EARN_WNE_P6'\n",
    "est_list = [10, 25, 50, 100, 200]\n",
    "#preds = xValSVM(merged_df, target, 10, cs)"
   ]
  },
  {
   "cell_type": "code",
   "execution_count": 12,
   "metadata": {},
   "outputs": [],
   "source": [
    "MSE = 0\n",
    "MAE = 1\n",
    "def xValRF(dataset, target, k, est_list, error_metric):\n",
    "    kfold = KFold(n_splits = k)\n",
    "\n",
    "\n",
    "    err_dict = {}\n",
    "    \n",
    "    for est in est_list:\n",
    "        err_dict[est] = []\n",
    "    \n",
    "    X = dataset.drop(target, axis=1)\n",
    "    Y = dataset[target]\n",
    "\n",
    "    #the split function will divide the data into k parts, each of the k folds will be a situation \n",
    "    #in which one of the k parts will be the validation set. \n",
    "    for train_index, val_index in kfold.split(X):\n",
    "        X_train, X_val = X.iloc[train_index], X.iloc[val_index]\n",
    "        Y_train, Y_val = Y.iloc[train_index], Y.iloc[val_index]\n",
    "        #for each c in cs, we train a model on the the training we defined in the outter loop\n",
    "        #we then predict on the validation data we have also defined\n",
    "        \n",
    "        for est in est_list:\n",
    "            model = RandomForestRegressor(n_estimators=est, oob_score = True)\n",
    "            model.fit(X_train, Y_train)\n",
    "            pred = model.predict(X_val)\n",
    "            if error_metric == MSE:\n",
    "                err_est_k = mean_squared_error(Y_val, pred)\n",
    "            if error_metric == MAE:\n",
    "                err_est_k = mean_absolute_error(Y_val, pred)\n",
    "            err_dict[est].append(err_est_k)\n",
    "\n",
    "\n",
    "    return err_dict"
   ]
  },
  {
   "cell_type": "code",
   "execution_count": null,
   "metadata": {},
   "outputs": [],
   "source": []
  },
  {
   "cell_type": "code",
   "execution_count": 13,
   "metadata": {},
   "outputs": [
    {
     "name": "stderr",
     "output_type": "stream",
     "text": [
      "/Users/williamegan/anaconda3/lib/python3.7/site-packages/sklearn/ensemble/forest.py:737: UserWarning: Some inputs do not have OOB scores. This probably means too few trees were used to compute any reliable oob estimates.\n",
      "  warn(\"Some inputs do not have OOB scores. \"\n",
      "/Users/williamegan/anaconda3/lib/python3.7/site-packages/sklearn/ensemble/forest.py:737: UserWarning: Some inputs do not have OOB scores. This probably means too few trees were used to compute any reliable oob estimates.\n",
      "  warn(\"Some inputs do not have OOB scores. \"\n",
      "/Users/williamegan/anaconda3/lib/python3.7/site-packages/sklearn/ensemble/forest.py:737: UserWarning: Some inputs do not have OOB scores. This probably means too few trees were used to compute any reliable oob estimates.\n",
      "  warn(\"Some inputs do not have OOB scores. \"\n",
      "/Users/williamegan/anaconda3/lib/python3.7/site-packages/sklearn/ensemble/forest.py:737: UserWarning: Some inputs do not have OOB scores. This probably means too few trees were used to compute any reliable oob estimates.\n",
      "  warn(\"Some inputs do not have OOB scores. \"\n",
      "/Users/williamegan/anaconda3/lib/python3.7/site-packages/sklearn/ensemble/forest.py:737: UserWarning: Some inputs do not have OOB scores. This probably means too few trees were used to compute any reliable oob estimates.\n",
      "  warn(\"Some inputs do not have OOB scores. \"\n",
      "/Users/williamegan/anaconda3/lib/python3.7/site-packages/sklearn/ensemble/forest.py:737: UserWarning: Some inputs do not have OOB scores. This probably means too few trees were used to compute any reliable oob estimates.\n",
      "  warn(\"Some inputs do not have OOB scores. \"\n"
     ]
    }
   ],
   "source": [
    "errors = xValRF(selected_df, target, 5, est_list, MSE)"
   ]
  },
  {
   "cell_type": "code",
   "execution_count": 19,
   "metadata": {},
   "outputs": [
    {
     "name": "stdout",
     "output_type": "stream",
     "text": [
      "[2.812692015366112e-18, 2.8005026818595305e-18, 21937729.725166216, 31628739.01633021, 29744679.304898024]\n",
      "[2.7520100456292218e-18, 2.7883398181325508e-18, 19671406.91059995, 29984442.989022695, 26944571.17065691]\n",
      "[2.8494188345634663e-18, 2.83715009171808e-18, 19836236.37471962, 28962802.947643925, 25858222.91305948]\n",
      "[2.7279225461916776e-18, 2.7279225461916776e-18, 19354028.27844586, 28172396.607650504, 25584780.208486486]\n",
      "[2.9610286602540213e-18, 2.9610286602540213e-18, 19288625.548266258, 28203145.50663693, 25376360.704363428]\n"
     ]
    }
   ],
   "source": [
    "for i in errors:\n",
    "    print(errors[i])"
   ]
  },
  {
   "cell_type": "code",
   "execution_count": null,
   "metadata": {},
   "outputs": [],
   "source": []
  },
  {
   "cell_type": "code",
   "execution_count": null,
   "metadata": {},
   "outputs": [],
   "source": []
  },
  {
   "cell_type": "code",
   "execution_count": null,
   "metadata": {},
   "outputs": [],
   "source": []
  },
  {
   "cell_type": "code",
   "execution_count": null,
   "metadata": {},
   "outputs": [],
   "source": []
  },
  {
   "cell_type": "code",
   "execution_count": null,
   "metadata": {},
   "outputs": [],
   "source": []
  },
  {
   "cell_type": "code",
   "execution_count": null,
   "metadata": {},
   "outputs": [],
   "source": []
  },
  {
   "cell_type": "code",
   "execution_count": null,
   "metadata": {},
   "outputs": [],
   "source": []
  },
  {
   "cell_type": "code",
   "execution_count": null,
   "metadata": {},
   "outputs": [],
   "source": []
  },
  {
   "cell_type": "code",
   "execution_count": null,
   "metadata": {},
   "outputs": [],
   "source": []
  },
  {
   "cell_type": "code",
   "execution_count": null,
   "metadata": {},
   "outputs": [],
   "source": []
  },
  {
   "cell_type": "code",
   "execution_count": null,
   "metadata": {},
   "outputs": [],
   "source": []
  },
  {
   "cell_type": "code",
   "execution_count": null,
   "metadata": {},
   "outputs": [],
   "source": []
  },
  {
   "cell_type": "code",
   "execution_count": null,
   "metadata": {},
   "outputs": [],
   "source": []
  },
  {
   "cell_type": "code",
   "execution_count": null,
   "metadata": {},
   "outputs": [],
   "source": []
  },
  {
   "cell_type": "markdown",
   "metadata": {},
   "source": [
    "- sampling_data(data)\n",
    "    - ret train, test\n",
    "- split_data(train, test, target)\n",
    "    - return x_train, y_train, x_test, y_test\n",
    "- run_model(x_train, y_train, x_test, est, sel) with sel = 1\n",
    "    - return rf_feature_importance, rf, preds\n",
    "\n",
    "\n",
    "\n"
   ]
  },
  {
   "cell_type": "code",
   "execution_count": 3,
   "metadata": {},
   "outputs": [],
   "source": [
    "train, test = model.sampling_data(merged_df)"
   ]
  },
  {
   "cell_type": "code",
   "execution_count": 4,
   "metadata": {},
   "outputs": [
    {
     "ename": "NameError",
     "evalue": "name 'train' is not defined",
     "output_type": "error",
     "traceback": [
      "\u001b[0;31m---------------------------------------------------------------------------\u001b[0m",
      "\u001b[0;31mNameError\u001b[0m                                 Traceback (most recent call last)",
      "\u001b[0;32m<ipython-input-4-713c46c37b0d>\u001b[0m in \u001b[0;36m<module>\u001b[0;34m\u001b[0m\n\u001b[1;32m      1\u001b[0m \u001b[0mtarget\u001b[0m \u001b[0;34m=\u001b[0m \u001b[0;34m'MD_EARN_WNE_P6'\u001b[0m\u001b[0;34m\u001b[0m\u001b[0;34m\u001b[0m\u001b[0m\n\u001b[0;32m----> 2\u001b[0;31m \u001b[0mx_train\u001b[0m\u001b[0;34m,\u001b[0m \u001b[0my_train\u001b[0m\u001b[0;34m,\u001b[0m \u001b[0mx_test\u001b[0m\u001b[0;34m,\u001b[0m \u001b[0my_test\u001b[0m \u001b[0;34m=\u001b[0m \u001b[0mmodel\u001b[0m\u001b[0;34m.\u001b[0m\u001b[0msplit_data\u001b[0m\u001b[0;34m(\u001b[0m\u001b[0mtrain\u001b[0m\u001b[0;34m,\u001b[0m \u001b[0mtest\u001b[0m\u001b[0;34m,\u001b[0m \u001b[0mtarget\u001b[0m\u001b[0;34m)\u001b[0m\u001b[0;34m\u001b[0m\u001b[0;34m\u001b[0m\u001b[0m\n\u001b[0m",
      "\u001b[0;31mNameError\u001b[0m: name 'train' is not defined"
     ]
    }
   ],
   "source": [
    "target = 'MD_EARN_WNE_P6'\n",
    "x_train, y_train, x_test, y_test = model.split_data(train, test, target)"
   ]
  },
  {
   "cell_type": "code",
   "execution_count": 5,
   "metadata": {},
   "outputs": [
    {
     "name": "stderr",
     "output_type": "stream",
     "text": [
      "/Users/williamegan/anaconda3/lib/python3.7/site-packages/sklearn/ensemble/forest.py:737: UserWarning: Some inputs do not have OOB scores. This probably means too few trees were used to compute any reliable oob estimates.\n",
      "  warn(\"Some inputs do not have OOB scores. \"\n"
     ]
    }
   ],
   "source": [
    "sel = 1\n",
    "est = 14\n",
    "rf_feature_importance, rf, preds = model.run_model(x_train, y_train, x_test, est, sel)"
   ]
  },
  {
   "cell_type": "code",
   "execution_count": null,
   "metadata": {},
   "outputs": [],
   "source": []
  },
  {
   "cell_type": "code",
   "execution_count": null,
   "metadata": {},
   "outputs": [],
   "source": []
  },
  {
   "cell_type": "code",
   "execution_count": null,
   "metadata": {},
   "outputs": [],
   "source": []
  },
  {
   "cell_type": "code",
   "execution_count": null,
   "metadata": {},
   "outputs": [],
   "source": []
  }
 ],
 "metadata": {
  "kernelspec": {
   "display_name": "Python 3",
   "language": "python",
   "name": "python3"
  },
  "language_info": {
   "codemirror_mode": {
    "name": "ipython",
    "version": 3
   },
   "file_extension": ".py",
   "mimetype": "text/x-python",
   "name": "python",
   "nbconvert_exporter": "python",
   "pygments_lexer": "ipython3",
   "version": "3.7.3"
  }
 },
 "nbformat": 4,
 "nbformat_minor": 2
}
