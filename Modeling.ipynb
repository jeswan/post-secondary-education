{
 "cells": [
  {
   "cell_type": "markdown",
   "metadata": {},
   "source": [
    "## Modeling"
   ]
  },
  {
   "cell_type": "code",
   "execution_count": 1,
   "metadata": {},
   "outputs": [],
   "source": [
    "import numpy as np\n",
    "import pandas as pd\n",
    "import matplotlib.pyplot as plt\n",
    "import seaborn as sns\n",
    "import import_ipynb\n",
    "from sklearn.ensemble import RandomForestRegressor\n",
    "from sklearn.metrics import roc_curve, auc, roc_auc_score\n",
    "from sklearn.model_selection import train_test_split\n",
    "%matplotlib inline"
   ]
  },
  {
   "cell_type": "code",
   "execution_count": 2,
   "metadata": {},
   "outputs": [],
   "source": [
    "def sampling_data(data):\n",
    "    data_exists = [2003, 2005, 2007, 2009, 2011, 2012]\n",
    "    \n",
    "    relevant_years_df = data[data['Year'].isin(data_exists)]\n",
    "    train = relevant_years_df.reset_index(drop=True)\n",
    "\n",
    "    test = data[data['Year'] == 2013]\n",
    "    test = test.reset_index(drop=True)\n",
    "    \n",
    "    return train, test"
   ]
  },
  {
   "cell_type": "code",
   "execution_count": 3,
   "metadata": {},
   "outputs": [],
   "source": [
    "def split_data(train, test, target):\n",
    "    # training split\n",
    "    x_train = train.drop([target], axis = 1)\n",
    "    y_train = train[target] \n",
    "    \n",
    "    # testing split\n",
    "    x_test = test.drop([target], axis = 1)\n",
    "    y_test = test[target] \n",
    "    \n",
    "    return x_train, y_train, x_test, y_test"
   ]
  },
  {
   "cell_type": "code",
   "execution_count": 4,
   "metadata": {},
   "outputs": [],
   "source": [
    "# creates and fits a random forest\n",
    "\n",
    "def create_random_forest(x_train, y_train, x_test, est, sel):\n",
    "    rf = RandomForestRegressor(n_estimators=est, oob_score = True)\n",
    "    \n",
    "    rf.fit(x_train, y_train)\n",
    "    \n",
    "    rf_feature_importance = rf.feature_importances_\n",
    "    rf_pred = rf.predict_proba(x_test)\n",
    "    \n",
    "    if sel == 1:\n",
    "        return rf_feature_importance\n",
    "    elif sel == 2:\n",
    "        return rf_pred\n",
    "    else:\n",
    "        return print(\"Whoops\")"
   ]
  },
  {
   "cell_type": "code",
   "execution_count": 1,
   "metadata": {},
   "outputs": [],
   "source": [
    "# graphing feature importance\n",
    "\n",
    "def graph_feature_importance(x_train, y_train, x_test, est):\n",
    "    feature_mi = create_random_forest(x_train, y_train, x_test, est, 1)\n",
    "    feature_mi_dict = dict(zip(x_train.columns.values, feature_mi))\n",
    "    feat_importances = pd.Series(feature_mi, index=x_train.columns)\n",
    "    plt.figure(figsize=(10, 10))\n",
    "    plt.title(\"Feature Importance\", fontsize = 14)\n",
    "    plt.xlabel('importance', fontsize=12)\n",
    "    plt.ylabel('feature', fontsize=12)\n",
    "    feat_importances.sort_values().plot(kind=\"bar\")\n",
    "    plt.show()"
   ]
  },
  {
   "cell_type": "code",
   "execution_count": 2,
   "metadata": {},
   "outputs": [],
   "source": [
    "# testing different esitmators\n",
    "\n",
    "estimators = []\n",
    "\n",
    "auc_oob = []\n",
    "auc_test = []\n",
    "\n",
    "for n in estimators:\n",
    "    oob = create_random_forest(train_df, test_df, 'MD_EARN_WNE_P6', n, 2)\n",
    "    proba = create_random_forest(train_df, test_df,'MD_EARN_WNE_P6' , n, 4)\n",
    "    auc_oob.append(roc_auc_score(train_df['MD_EARN_WNE_P6'], oob[:,1]))\n",
    "    auc_test.append(roc_auc_score(test_df['MD_EARN_WNE_P6'], proba[:,1]))\n"
   ]
  },
  {
   "cell_type": "code",
   "execution_count": null,
   "metadata": {},
   "outputs": [],
   "source": []
  }
 ],
 "metadata": {
  "kernelspec": {
   "display_name": "Python 3",
   "language": "python",
   "name": "python3"
  },
  "language_info": {
   "codemirror_mode": {
    "name": "ipython",
    "version": 3
   },
   "file_extension": ".py",
   "mimetype": "text/x-python",
   "name": "python",
   "nbconvert_exporter": "python",
   "pygments_lexer": "ipython3",
   "version": "3.7.3"
  }
 },
 "nbformat": 4,
 "nbformat_minor": 4
}
