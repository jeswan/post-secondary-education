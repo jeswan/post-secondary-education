{
 "cells": [
  {
   "cell_type": "markdown",
   "metadata": {},
   "source": [
    "## Modeling"
   ]
  },
  {
   "cell_type": "code",
   "execution_count": null,
   "metadata": {},
   "outputs": [],
   "source": [
    "import numpy as np\n",
    "import pandas as pd\n",
    "import matplotlib.pyplot as plt\n",
    "import seaborn as sns\n",
    "from sklearn.ensemble import RandomForestClassifier\n",
    "from sklearn.metrics import roc_curve, auc, roc_auc_score\n",
    "%matplotlib inline"
   ]
  },
  {
   "cell_type": "code",
   "execution_count": null,
   "metadata": {},
   "outputs": [],
   "source": [
    "# Splits training and testing data by a given percentage \n",
    "\n",
    "def split_data(data, perc):\n",
    "    data_copy = data.copy()\n",
    "    train_df = data_df_copy.sample(frac=perc, random_state=0)\n",
    "    test_df = df_copy.drop(train_df.index)\n",
    "    \n",
    "    return train_df, test_df"
   ]
  },
  {
   "cell_type": "code",
   "execution_count": null,
   "metadata": {},
   "outputs": [],
   "source": [
    "# creates and fits a random forest\n",
    "\n",
    "def create_random_forest(train, test, target, est, sel):\n",
    "    rf = RandomForestClassifier(criterion='entropy', n_estimators=est, oob_score = True)\n",
    "    \n",
    "    # training split\n",
    "    x_train = train.drop([target], axis = 1)\n",
    "    y_train = train[target] \n",
    "    \n",
    "    # testing split\n",
    "    x_test = test.drop([target], axis = 1)\n",
    "    y_test = test[target] \n",
    "    \n",
    "    rf.fit(x_train, y_train)\n",
    "    \n",
    "    rf_feature_importance = rf.feafeature_importances_\n",
    "    rf_oob_matrix = rf.oob_decision_function_\n",
    "    rf_pred = rf.predict(x_test)\n",
    "    rf_predict_prob = rf.predict_proba(x_test)\n",
    "    \n",
    "    if sel == 1:\n",
    "        return rf_feature_importance\n",
    "    elif sel == 2:\n",
    "        return rf_oob_matrix\n",
    "    elif sel == 3:\n",
    "        return rf_pred\n",
    "    elif sel == 4:\n",
    "        return rf_predict_prob\n",
    "    else:\n",
    "        return print(\"Whoops\")\n",
    "    "
   ]
  },
  {
   "cell_type": "code",
   "execution_count": null,
   "metadata": {},
   "outputs": [],
   "source": [
    "# graphing feature importance\n",
    "\n",
    "def graph_feature_importance(train, test, target, est):\n",
    "    feature_mi = create_random_forest(train, test, target, est, 'feature')\n",
    "    feature_mi_dict = dict(zip(X.columns.values, feature_mi))\n",
    "    feat_importances = pd.Series(feature_mi, index=X.columns)\n",
    "    plt.figure(figsize=(10, 10))\n",
    "    plt.title(\"Feature Importance\", fontsize = 14)\n",
    "    plt.xlabel('importance', fontsize=12)\n",
    "    plt.ylabel('feature', fontsize=12)\n",
    "    feat_importances.sort_values().plot(kind=\"bar\")\n",
    "    plt.show()"
   ]
  },
  {
   "cell_type": "code",
   "execution_count": null,
   "metadata": {},
   "outputs": [],
   "source": [
    "# testing different esitmators\n",
    "\n",
    "estimators = []\n",
    "\n",
    "auc_oob = []\n",
    "auc_test = []\n",
    "\n",
    "for n in estimators:\n",
    "    oob = create_random_forest(train_df, test_df, 'MD_EARN_WNE_P6', n, 2)\n",
    "    proba = create_random_forest(train_df, test_df,'MD_EARN_WNE_P6' , n, 4)\n",
    "    auc_oob.append(roc_auc_score(train_df['MD_EARN_WNE_P6'], oob[:,1]))\n",
    "    auc_test.append(roc_auc_score(test_df['MD_EARN_WNE_P6'], proba[:,1]))\n"
   ]
  }
 ],
 "metadata": {
  "kernelspec": {
   "display_name": "Python 3",
   "language": "python",
   "name": "python3"
  },
  "language_info": {
   "codemirror_mode": {
    "name": "ipython",
    "version": 3
   },
   "file_extension": ".py",
   "mimetype": "text/x-python",
   "name": "python",
   "nbconvert_exporter": "python",
   "pygments_lexer": "ipython3",
   "version": "3.7.3"
  }
 },
 "nbformat": 4,
 "nbformat_minor": 4
}
