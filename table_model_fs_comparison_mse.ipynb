{
 "cells": [
  {
   "cell_type": "code",
   "execution_count": 44,
   "metadata": {},
   "outputs": [
    {
     "data": {
      "image/png": "[encoded data removed]",
      "text/plain": [
       "<Figure size 432x288 with 1 Axes>"
      ]
     },
     "metadata": {
      "needs_background": "light"
     },
     "output_type": "display_data"
    }
   ],
   "source": [
    "import pandas as pd\n",
    "import matplotlib.pyplot as plt\n",
    "import pandas as pd\n",
    "from pandas.plotting import table # EDIT: see deprecation warnings below\n",
    "\n",
    "df = pd.read_csv('mse_chart.csv')\n",
    "df = df.drop(df.columns[0], axis=1)\n",
    "df = df.round(4)\n",
    "\n",
    "columns = ('F-regression', 'Mutual Information', 'Recursive Feature Elimination (RF)')\n",
    "rows = ['Random Forest', 'Support Vector Regression', 'Linear Regression', 'Lasso Regression']\n",
    "\n",
    "fig, ax = plt.subplots()\n",
    "ax.axis('off')\n",
    "ax.axis('tight')\n",
    "header = plt.table(cellText=[['']*1],\n",
    "                      colLabels=['Feature Selection Methods'],\n",
    "                      loc='bottom'\n",
    "                      )\n",
    "ax.table(df.to_numpy(), loc='bottom', rowLabels=rows, colLabels=columns, bbox=[0, -0.35, 1.0, 0.3])\n",
    "fig.tight_layout()\n",
    "plt.savefig('mse_chart_comp_fs_models.png', dpi=300)\n",
    "plt.show()"
   ]
  },
  {
   "cell_type": "code",
   "execution_count": 15,
   "metadata": {},
   "outputs": [
    {
     "data": {
      "text/html": [
       "<div>\n",
       "<style scoped>\n",
       "    .dataframe tbody tr th:only-of-type {\n",
       "        vertical-align: middle;\n",
       "    }\n",
       "\n",
       "    .dataframe tbody tr th {\n",
       "        vertical-align: top;\n",
       "    }\n",
       "\n",
       "    .dataframe thead th {\n",
       "        text-align: right;\n",
       "    }\n",
       "</style>\n",
       "<table border=\"1\" class=\"dataframe\">\n",
       "  <thead>\n",
       "    <tr style=\"text-align: right;\">\n",
       "      <th></th>\n",
       "      <th>FR</th>\n",
       "      <th>MIR</th>\n",
       "      <th>RFE</th>\n",
       "    </tr>\n",
       "  </thead>\n",
       "  <tbody>\n",
       "    <tr>\n",
       "      <th>0</th>\n",
       "      <td>0.003346</td>\n",
       "      <td>0.004378</td>\n",
       "      <td>0.002005</td>\n",
       "    </tr>\n",
       "    <tr>\n",
       "      <th>1</th>\n",
       "      <td>0.036851</td>\n",
       "      <td>0.046466</td>\n",
       "      <td>0.026587</td>\n",
       "    </tr>\n",
       "    <tr>\n",
       "      <th>2</th>\n",
       "      <td>0.040758</td>\n",
       "      <td>0.053041</td>\n",
       "      <td>0.029552</td>\n",
       "    </tr>\n",
       "    <tr>\n",
       "      <th>3</th>\n",
       "      <td>0.040807</td>\n",
       "      <td>0.053083</td>\n",
       "      <td>0.029813</td>\n",
       "    </tr>\n",
       "  </tbody>\n",
       "</table>\n",
       "</div>"
      ],
      "text/plain": [
       "         FR       MIR       RFE\n",
       "0  0.003346  0.004378  0.002005\n",
       "1  0.036851  0.046466  0.026587\n",
       "2  0.040758  0.053041  0.029552\n",
       "3  0.040807  0.053083  0.029813"
      ]
     },
     "execution_count": 15,
     "metadata": {},
     "output_type": "execute_result"
    }
   ],
   "source": [
    "df"
   ]
  },
  {
   "cell_type": "code",
   "execution_count": null,
   "metadata": {},
   "outputs": [],
   "source": []
  }
 ],
 "metadata": {
  "kernelspec": {
   "display_name": "Python 3",
   "language": "python",
   "name": "python3"
  },
  "language_info": {
   "codemirror_mode": {
    "name": "ipython",
    "version": 3
   },
   "file_extension": ".py",
   "mimetype": "text/x-python",
   "name": "python",
   "nbconvert_exporter": "python",
   "pygments_lexer": "ipython3",
   "version": "3.7.3"
  }
 },
 "nbformat": 4,
 "nbformat_minor": 2
}
